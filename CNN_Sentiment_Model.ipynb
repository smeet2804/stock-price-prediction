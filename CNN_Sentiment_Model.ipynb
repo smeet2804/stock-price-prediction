{
  "nbformat": 4,
  "nbformat_minor": 0,
  "metadata": {
    "colab": {
      "name": "CNN_(Sentiment_Analysis)_v2.ipynb",
      "provenance": [],
      "collapsed_sections": []
    },
    "kernelspec": {
      "name": "python3",
      "display_name": "Python 3"
    },
    "language_info": {
      "name": "python"
    }
  },
  "cells": [
    {
      "cell_type": "code",
      "metadata": {
        "id": "lyuuuzm8pq74"
      },
      "source": [
        "\n",
        "import numpy as np \n",
        "import os\n",
        "import pandas as pd\n",
        "import pandas_datareader as pdr\n",
        "import matplotlib.pyplot as plt\n",
        "plt.style.use('fivethirtyeight')\n",
        "import seaborn as sns\n",
        "from sklearn.preprocessing import MinMaxScaler, StandardScaler\n",
        "from sklearn.metrics import mean_squared_error, accuracy_score, mean_absolute_error"
      ],
      "execution_count": null,
      "outputs": []
    },
    {
      "cell_type": "code",
      "metadata": {
        "id": "Fnph7j6Hqlzp"
      },
      "source": [
        "df= pd.read_csv('/content/INFY_Final_CNN.csv')"
      ],
      "execution_count": null,
      "outputs": []
    },
    {
      "cell_type": "code",
      "metadata": {
        "colab": {
          "base_uri": "https://localhost:8080/",
          "height": 415
        },
        "id": "sD9TLUokr2tl",
        "outputId": "0449cdb5-ce1c-410f-d4bf-9431b76b2fdd"
      },
      "source": [
        "df"
      ],
      "execution_count": null,
      "outputs": [
        {
          "output_type": "execute_result",
          "data": {
            "text/html": [
              "<div>\n",
              "<style scoped>\n",
              "    .dataframe tbody tr th:only-of-type {\n",
              "        vertical-align: middle;\n",
              "    }\n",
              "\n",
              "    .dataframe tbody tr th {\n",
              "        vertical-align: top;\n",
              "    }\n",
              "\n",
              "    .dataframe thead th {\n",
              "        text-align: right;\n",
              "    }\n",
              "</style>\n",
              "<table border=\"1\" class=\"dataframe\">\n",
              "  <thead>\n",
              "    <tr style=\"text-align: right;\">\n",
              "      <th></th>\n",
              "      <th>Date</th>\n",
              "      <th>close</th>\n",
              "      <th>compund</th>\n",
              "      <th>neg</th>\n",
              "      <th>neu</th>\n",
              "      <th>pos</th>\n",
              "      <th>open</th>\n",
              "      <th>high</th>\n",
              "      <th>low</th>\n",
              "      <th>volume</th>\n",
              "    </tr>\n",
              "  </thead>\n",
              "  <tbody>\n",
              "    <tr>\n",
              "      <th>0</th>\n",
              "      <td>04-04-2016</td>\n",
              "      <td>621.849976</td>\n",
              "      <td>0.0000</td>\n",
              "      <td>0.000</td>\n",
              "      <td>1.000</td>\n",
              "      <td>0.000</td>\n",
              "      <td>606.775024</td>\n",
              "      <td>624.000000</td>\n",
              "      <td>606.775024</td>\n",
              "      <td>4577054</td>\n",
              "    </tr>\n",
              "    <tr>\n",
              "      <th>1</th>\n",
              "      <td>05-04-2016</td>\n",
              "      <td>609.900024</td>\n",
              "      <td>0.3818</td>\n",
              "      <td>0.000</td>\n",
              "      <td>0.843</td>\n",
              "      <td>0.157</td>\n",
              "      <td>621.000000</td>\n",
              "      <td>621.150024</td>\n",
              "      <td>607.000000</td>\n",
              "      <td>4790716</td>\n",
              "    </tr>\n",
              "    <tr>\n",
              "      <th>2</th>\n",
              "      <td>07-04-2016</td>\n",
              "      <td>590.750000</td>\n",
              "      <td>0.0000</td>\n",
              "      <td>0.000</td>\n",
              "      <td>1.000</td>\n",
              "      <td>0.000</td>\n",
              "      <td>604.200012</td>\n",
              "      <td>604.200012</td>\n",
              "      <td>587.500000</td>\n",
              "      <td>5657890</td>\n",
              "    </tr>\n",
              "    <tr>\n",
              "      <th>3</th>\n",
              "      <td>11-04-2016</td>\n",
              "      <td>591.950012</td>\n",
              "      <td>-0.4767</td>\n",
              "      <td>0.237</td>\n",
              "      <td>0.763</td>\n",
              "      <td>0.000</td>\n",
              "      <td>582.900024</td>\n",
              "      <td>593.375000</td>\n",
              "      <td>575.549988</td>\n",
              "      <td>5768678</td>\n",
              "    </tr>\n",
              "    <tr>\n",
              "      <th>4</th>\n",
              "      <td>12-04-2016</td>\n",
              "      <td>591.099976</td>\n",
              "      <td>0.8807</td>\n",
              "      <td>0.000</td>\n",
              "      <td>0.263</td>\n",
              "      <td>0.737</td>\n",
              "      <td>590.250000</td>\n",
              "      <td>597.450012</td>\n",
              "      <td>589.299988</td>\n",
              "      <td>5842138</td>\n",
              "    </tr>\n",
              "    <tr>\n",
              "      <th>...</th>\n",
              "      <td>...</td>\n",
              "      <td>...</td>\n",
              "      <td>...</td>\n",
              "      <td>...</td>\n",
              "      <td>...</td>\n",
              "      <td>...</td>\n",
              "      <td>...</td>\n",
              "      <td>...</td>\n",
              "      <td>...</td>\n",
              "      <td>...</td>\n",
              "    </tr>\n",
              "    <tr>\n",
              "      <th>1108</th>\n",
              "      <td>23-04-2021</td>\n",
              "      <td>1333.800049</td>\n",
              "      <td>0.0000</td>\n",
              "      <td>0.000</td>\n",
              "      <td>1.000</td>\n",
              "      <td>0.000</td>\n",
              "      <td>1343.000000</td>\n",
              "      <td>1348.400024</td>\n",
              "      <td>1331.000000</td>\n",
              "      <td>7316262</td>\n",
              "    </tr>\n",
              "    <tr>\n",
              "      <th>1109</th>\n",
              "      <td>26-04-2021</td>\n",
              "      <td>1343.550049</td>\n",
              "      <td>0.8225</td>\n",
              "      <td>0.000</td>\n",
              "      <td>0.751</td>\n",
              "      <td>0.249</td>\n",
              "      <td>1332.250000</td>\n",
              "      <td>1351.300049</td>\n",
              "      <td>1321.000000</td>\n",
              "      <td>7088606</td>\n",
              "    </tr>\n",
              "    <tr>\n",
              "      <th>1110</th>\n",
              "      <td>27-04-2021</td>\n",
              "      <td>1348.500000</td>\n",
              "      <td>0.2960</td>\n",
              "      <td>0.049</td>\n",
              "      <td>0.852</td>\n",
              "      <td>0.099</td>\n",
              "      <td>1346.000000</td>\n",
              "      <td>1353.000000</td>\n",
              "      <td>1340.150024</td>\n",
              "      <td>3636115</td>\n",
              "    </tr>\n",
              "    <tr>\n",
              "      <th>1111</th>\n",
              "      <td>28-04-2021</td>\n",
              "      <td>1356.000000</td>\n",
              "      <td>0.2023</td>\n",
              "      <td>0.000</td>\n",
              "      <td>0.964</td>\n",
              "      <td>0.036</td>\n",
              "      <td>1358.000000</td>\n",
              "      <td>1359.500000</td>\n",
              "      <td>1344.599976</td>\n",
              "      <td>4879234</td>\n",
              "    </tr>\n",
              "    <tr>\n",
              "      <th>1112</th>\n",
              "      <td>29-04-2021</td>\n",
              "      <td>1356.349976</td>\n",
              "      <td>0.7783</td>\n",
              "      <td>0.000</td>\n",
              "      <td>0.929</td>\n",
              "      <td>0.071</td>\n",
              "      <td>1368.000000</td>\n",
              "      <td>1369.000000</td>\n",
              "      <td>1351.400024</td>\n",
              "      <td>5412357</td>\n",
              "    </tr>\n",
              "  </tbody>\n",
              "</table>\n",
              "<p>1113 rows × 10 columns</p>\n",
              "</div>"
            ],
            "text/plain": [
              "            Date        close  compund  ...         high          low   volume\n",
              "0     04-04-2016   621.849976   0.0000  ...   624.000000   606.775024  4577054\n",
              "1     05-04-2016   609.900024   0.3818  ...   621.150024   607.000000  4790716\n",
              "2     07-04-2016   590.750000   0.0000  ...   604.200012   587.500000  5657890\n",
              "3     11-04-2016   591.950012  -0.4767  ...   593.375000   575.549988  5768678\n",
              "4     12-04-2016   591.099976   0.8807  ...   597.450012   589.299988  5842138\n",
              "...          ...          ...      ...  ...          ...          ...      ...\n",
              "1108  23-04-2021  1333.800049   0.0000  ...  1348.400024  1331.000000  7316262\n",
              "1109  26-04-2021  1343.550049   0.8225  ...  1351.300049  1321.000000  7088606\n",
              "1110  27-04-2021  1348.500000   0.2960  ...  1353.000000  1340.150024  3636115\n",
              "1111  28-04-2021  1356.000000   0.2023  ...  1359.500000  1344.599976  4879234\n",
              "1112  29-04-2021  1356.349976   0.7783  ...  1369.000000  1351.400024  5412357\n",
              "\n",
              "[1113 rows x 10 columns]"
            ]
          },
          "metadata": {
            "tags": []
          },
          "execution_count": 18
        }
      ]
    },
    {
      "cell_type": "code",
      "metadata": {
        "colab": {
          "base_uri": "https://localhost:8080/",
          "height": 415
        },
        "id": "qdMqnaZoqFfo",
        "outputId": "600fa5a2-36be-4d8e-acd8-1a2473a9deef"
      },
      "source": [
        "df = df.drop(columns=['open','high','low','volume','Date'])\n",
        "df"
      ],
      "execution_count": null,
      "outputs": [
        {
          "output_type": "execute_result",
          "data": {
            "text/html": [
              "<div>\n",
              "<style scoped>\n",
              "    .dataframe tbody tr th:only-of-type {\n",
              "        vertical-align: middle;\n",
              "    }\n",
              "\n",
              "    .dataframe tbody tr th {\n",
              "        vertical-align: top;\n",
              "    }\n",
              "\n",
              "    .dataframe thead th {\n",
              "        text-align: right;\n",
              "    }\n",
              "</style>\n",
              "<table border=\"1\" class=\"dataframe\">\n",
              "  <thead>\n",
              "    <tr style=\"text-align: right;\">\n",
              "      <th></th>\n",
              "      <th>close</th>\n",
              "      <th>compund</th>\n",
              "      <th>neg</th>\n",
              "      <th>neu</th>\n",
              "      <th>pos</th>\n",
              "    </tr>\n",
              "  </thead>\n",
              "  <tbody>\n",
              "    <tr>\n",
              "      <th>0</th>\n",
              "      <td>621.849976</td>\n",
              "      <td>0.0000</td>\n",
              "      <td>0.000</td>\n",
              "      <td>1.000</td>\n",
              "      <td>0.000</td>\n",
              "    </tr>\n",
              "    <tr>\n",
              "      <th>1</th>\n",
              "      <td>609.900024</td>\n",
              "      <td>0.3818</td>\n",
              "      <td>0.000</td>\n",
              "      <td>0.843</td>\n",
              "      <td>0.157</td>\n",
              "    </tr>\n",
              "    <tr>\n",
              "      <th>2</th>\n",
              "      <td>590.750000</td>\n",
              "      <td>0.0000</td>\n",
              "      <td>0.000</td>\n",
              "      <td>1.000</td>\n",
              "      <td>0.000</td>\n",
              "    </tr>\n",
              "    <tr>\n",
              "      <th>3</th>\n",
              "      <td>591.950012</td>\n",
              "      <td>-0.4767</td>\n",
              "      <td>0.237</td>\n",
              "      <td>0.763</td>\n",
              "      <td>0.000</td>\n",
              "    </tr>\n",
              "    <tr>\n",
              "      <th>4</th>\n",
              "      <td>591.099976</td>\n",
              "      <td>0.8807</td>\n",
              "      <td>0.000</td>\n",
              "      <td>0.263</td>\n",
              "      <td>0.737</td>\n",
              "    </tr>\n",
              "    <tr>\n",
              "      <th>...</th>\n",
              "      <td>...</td>\n",
              "      <td>...</td>\n",
              "      <td>...</td>\n",
              "      <td>...</td>\n",
              "      <td>...</td>\n",
              "    </tr>\n",
              "    <tr>\n",
              "      <th>1108</th>\n",
              "      <td>1333.800049</td>\n",
              "      <td>0.0000</td>\n",
              "      <td>0.000</td>\n",
              "      <td>1.000</td>\n",
              "      <td>0.000</td>\n",
              "    </tr>\n",
              "    <tr>\n",
              "      <th>1109</th>\n",
              "      <td>1343.550049</td>\n",
              "      <td>0.8225</td>\n",
              "      <td>0.000</td>\n",
              "      <td>0.751</td>\n",
              "      <td>0.249</td>\n",
              "    </tr>\n",
              "    <tr>\n",
              "      <th>1110</th>\n",
              "      <td>1348.500000</td>\n",
              "      <td>0.2960</td>\n",
              "      <td>0.049</td>\n",
              "      <td>0.852</td>\n",
              "      <td>0.099</td>\n",
              "    </tr>\n",
              "    <tr>\n",
              "      <th>1111</th>\n",
              "      <td>1356.000000</td>\n",
              "      <td>0.2023</td>\n",
              "      <td>0.000</td>\n",
              "      <td>0.964</td>\n",
              "      <td>0.036</td>\n",
              "    </tr>\n",
              "    <tr>\n",
              "      <th>1112</th>\n",
              "      <td>1356.349976</td>\n",
              "      <td>0.7783</td>\n",
              "      <td>0.000</td>\n",
              "      <td>0.929</td>\n",
              "      <td>0.071</td>\n",
              "    </tr>\n",
              "  </tbody>\n",
              "</table>\n",
              "<p>1113 rows × 5 columns</p>\n",
              "</div>"
            ],
            "text/plain": [
              "            close  compund    neg    neu    pos\n",
              "0      621.849976   0.0000  0.000  1.000  0.000\n",
              "1      609.900024   0.3818  0.000  0.843  0.157\n",
              "2      590.750000   0.0000  0.000  1.000  0.000\n",
              "3      591.950012  -0.4767  0.237  0.763  0.000\n",
              "4      591.099976   0.8807  0.000  0.263  0.737\n",
              "...           ...      ...    ...    ...    ...\n",
              "1108  1333.800049   0.0000  0.000  1.000  0.000\n",
              "1109  1343.550049   0.8225  0.000  0.751  0.249\n",
              "1110  1348.500000   0.2960  0.049  0.852  0.099\n",
              "1111  1356.000000   0.2023  0.000  0.964  0.036\n",
              "1112  1356.349976   0.7783  0.000  0.929  0.071\n",
              "\n",
              "[1113 rows x 5 columns]"
            ]
          },
          "metadata": {
            "tags": []
          },
          "execution_count": 19
        }
      ]
    },
    {
      "cell_type": "code",
      "metadata": {
        "colab": {
          "base_uri": "https://localhost:8080/",
          "height": 141
        },
        "id": "sR9lUeiF1j2b",
        "outputId": "1960d77e-4d80-42e2-d7e9-bc81ecc9d7e2"
      },
      "source": [
        "df.head(3)"
      ],
      "execution_count": null,
      "outputs": [
        {
          "output_type": "execute_result",
          "data": {
            "text/html": [
              "<div>\n",
              "<style scoped>\n",
              "    .dataframe tbody tr th:only-of-type {\n",
              "        vertical-align: middle;\n",
              "    }\n",
              "\n",
              "    .dataframe tbody tr th {\n",
              "        vertical-align: top;\n",
              "    }\n",
              "\n",
              "    .dataframe thead th {\n",
              "        text-align: right;\n",
              "    }\n",
              "</style>\n",
              "<table border=\"1\" class=\"dataframe\">\n",
              "  <thead>\n",
              "    <tr style=\"text-align: right;\">\n",
              "      <th></th>\n",
              "      <th>close</th>\n",
              "      <th>compund</th>\n",
              "      <th>neg</th>\n",
              "      <th>neu</th>\n",
              "      <th>pos</th>\n",
              "    </tr>\n",
              "  </thead>\n",
              "  <tbody>\n",
              "    <tr>\n",
              "      <th>0</th>\n",
              "      <td>621.849976</td>\n",
              "      <td>0.0000</td>\n",
              "      <td>0.0</td>\n",
              "      <td>1.000</td>\n",
              "      <td>0.000</td>\n",
              "    </tr>\n",
              "    <tr>\n",
              "      <th>1</th>\n",
              "      <td>609.900024</td>\n",
              "      <td>0.3818</td>\n",
              "      <td>0.0</td>\n",
              "      <td>0.843</td>\n",
              "      <td>0.157</td>\n",
              "    </tr>\n",
              "    <tr>\n",
              "      <th>2</th>\n",
              "      <td>590.750000</td>\n",
              "      <td>0.0000</td>\n",
              "      <td>0.0</td>\n",
              "      <td>1.000</td>\n",
              "      <td>0.000</td>\n",
              "    </tr>\n",
              "  </tbody>\n",
              "</table>\n",
              "</div>"
            ],
            "text/plain": [
              "        close  compund  neg    neu    pos\n",
              "0  621.849976   0.0000  0.0  1.000  0.000\n",
              "1  609.900024   0.3818  0.0  0.843  0.157\n",
              "2  590.750000   0.0000  0.0  1.000  0.000"
            ]
          },
          "metadata": {
            "tags": []
          },
          "execution_count": 20
        }
      ]
    },
    {
      "cell_type": "code",
      "metadata": {
        "id": "Fd6bF7EbsP9o"
      },
      "source": [
        "scaler = MinMaxScaler(feature_range=(0,1))\n",
        "df = scaler.fit_transform(df)  \n",
        "y_close = df[:,0]\n"
      ],
      "execution_count": null,
      "outputs": []
    },
    {
      "cell_type": "code",
      "metadata": {
        "colab": {
          "base_uri": "https://localhost:8080/"
        },
        "id": "o928qj8vw_1w",
        "outputId": "01f9a7ab-c760-422c-fbcd-0fe7e0ebc447"
      },
      "source": [
        "y_close"
      ],
      "execution_count": null,
      "outputs": [
        {
          "output_type": "execute_result",
          "data": {
            "text/plain": [
              "array([0.18434804, 0.17244985, 0.15338277, ..., 0.9078508 , 0.91531832,\n",
              "       0.91566678])"
            ]
          },
          "metadata": {
            "tags": []
          },
          "execution_count": 22
        }
      ]
    },
    {
      "cell_type": "code",
      "metadata": {
        "id": "X3g1bryxiyA7"
      },
      "source": [
        "steps=20"
      ],
      "execution_count": null,
      "outputs": []
    },
    {
      "cell_type": "code",
      "metadata": {
        "colab": {
          "base_uri": "https://localhost:8080/"
        },
        "id": "7odoP73BsQWz",
        "outputId": "57b5726a-c893-4eba-c183-12cf8ee8069d"
      },
      "source": [
        "ntrain = int(len(y_close)*0.8) \n",
        "train = df[0:ntrain]\n",
        "test  = df[ntrain-steps:len(df)]\n",
        "y_close_train = y_close[0:ntrain]\n",
        "y_close_test  = y_close[ntrain-steps:len(y_close)]\n",
        "y_close_test.shape\n",
        "y_close_test"
      ],
      "execution_count": null,
      "outputs": [
        {
          "output_type": "execute_result",
          "data": {
            "text/plain": [
              "array([0.20147356, 0.18633938, 0.19121818, 0.21566184, 0.19564892,\n",
              "       0.20426142, 0.24154923, 0.22034149, 0.22691288, 0.22302981,\n",
              "       0.27759245, 0.23597351, 0.23597351, 0.2282073 , 0.2272614 ,\n",
              "       0.23647134, 0.24513367, 0.2498631 , 0.22049087, 0.22621596,\n",
              "       0.23089556, 0.23184146, 0.23448   , 0.25454269, 0.24279381,\n",
              "       0.26758599, 0.26952756, 0.25319856, 0.26171152, 0.27022448,\n",
              "       0.26370286, 0.26987602, 0.2656942 , 0.28291925, 0.27968333,\n",
              "       0.27794091, 0.26609249, 0.25424401, 0.2497635 , 0.2633544 ,\n",
              "       0.2657938 , 0.2759994 , 0.26768553, 0.28272017, 0.27624832,\n",
              "       0.26265742, 0.31015083, 0.29377207, 0.29795389, 0.35590183,\n",
              "       0.33653606, 0.34350574, 0.34365505, 0.35878923, 0.34504901,\n",
              "       0.39254243, 0.4722457 , 0.46442973, 0.49544477, 0.49788417,\n",
              "       0.47911584, 0.46920892, 0.48404435, 0.50953351, 0.52387111,\n",
              "       0.51520883, 0.5224772 , 0.52700749, 0.51794692, 0.51092741,\n",
              "       0.50579975, 0.53183646, 0.51197291, 0.51242091, 0.51600536,\n",
              "       0.5122716 , 0.51466117, 0.5185443 , 0.52855076, 0.52033649,\n",
              "       0.5162045 , 0.50988197, 0.50848807, 0.4992283 , 0.51187331,\n",
              "       0.50813955, 0.49639067, 0.48976945, 0.47538208, 0.4851894 ,\n",
              "       0.49668936, 0.48036043, 0.48623484, 0.50042312, 0.48892315,\n",
              "       0.50116987, 0.50679542, 0.5393538 , 0.54338625, 0.56260265,\n",
              "       0.57181258, 0.56300094, 0.57071737, 0.56832774, 0.58052468,\n",
              "       0.5363668 , 0.57226065, 0.56982124, 0.5784338 , 0.60934925,\n",
              "       0.61636876, 0.65415434, 0.6671977 , 0.69238805, 0.71797681,\n",
              "       0.69726685, 0.66864137, 0.687808  , 0.68621495, 0.69776469,\n",
              "       0.70856767, 0.68935133, 0.68282965, 0.65131671, 0.63707872,\n",
              "       0.63538601, 0.62119773, 0.63284713, 0.62313936, 0.65440326,\n",
              "       0.66440978, 0.67312188, 0.69681885, 0.65151592, 0.68282965,\n",
              "       0.67810023, 0.68452224, 0.68402441, 0.67093146, 0.65719118,\n",
              "       0.66376257, 0.70010448, 0.70030369, 0.67600935, 0.67356989,\n",
              "       0.66042711, 0.69811315, 0.70114998, 0.6867625 , 0.69492705,\n",
              "       0.7037387 , 0.71354601, 0.72788367, 0.72335333, 0.72469758,\n",
              "       0.7147906 , 0.7258425 , 0.71937065, 0.74983821, 0.73739235,\n",
              "       0.7804052 , 0.81281426, 0.7958879 , 0.80011949, 0.81007618,\n",
              "       0.80659133, 0.81555235, 0.82018212, 0.84786176, 0.85338777,\n",
              "       0.84173837, 0.82187483, 0.93543078, 0.94633343, 0.92975552,\n",
              "       0.90431613, 0.87155872, 0.87613878, 0.89883995, 0.89908887,\n",
              "       0.90023391, 0.88455213, 0.86055654, 0.8358639 , 0.7988749 ,\n",
              "       0.82063024, 0.83093539, 0.84427737, 0.83900028, 0.83178168,\n",
              "       0.86309554, 0.86508688, 0.85607603, 0.85224272, 0.86931847,\n",
              "       0.86916909, 0.85000247, 0.84094191, 0.85204352, 0.8508986 ,\n",
              "       0.82491154, 0.82605659, 0.83397223, 0.83422114, 0.81306318,\n",
              "       0.8267038 , 0.86404138, 0.90292229, 0.88977939, 0.87618849,\n",
              "       0.89515603, 0.90491363, 0.92741572, 0.93408665, 0.93284207,\n",
              "       0.94319705, 0.94618405, 0.89650016, 0.9038183 , 0.93005427,\n",
              "       0.93080102, 0.91307806, 0.89321452, 0.89560403, 0.92731618,\n",
              "       0.9443918 , 0.96898489, 0.97012994, 0.9891969 , 0.99880512,\n",
              "       1.        , 0.98476622, 0.95629011, 0.92004775, 0.91307806,\n",
              "       0.92184   , 0.91068844, 0.91043952, 0.89321452, 0.90292229,\n",
              "       0.9078508 , 0.91531832, 0.91566678])"
            ]
          },
          "metadata": {
            "tags": []
          },
          "execution_count": 24
        }
      ]
    },
    {
      "cell_type": "code",
      "metadata": {
        "colab": {
          "base_uri": "https://localhost:8080/"
        },
        "id": "6IzGL3WCsZd3",
        "outputId": "520ea020-1a84-4f8d-c39a-07e221b2326e"
      },
      "source": [
        "import numpy as np\n",
        "\n",
        "def to_sequences(seq_size, data, close):\n",
        "    x = []\n",
        "    y = []\n",
        "    \n",
        "    for i in range(len(data)-seq_size-1):\n",
        "        window = data[i:(i+seq_size)]\n",
        "        after_window = close[i+seq_size]\n",
        "        window = [[x] for x in window]\n",
        "        x.append(window)\n",
        "        y.append(after_window)\n",
        "        \n",
        "    return np.array(x),np.array(y)\n",
        "\n",
        "\n",
        "timesteps = steps\n",
        "\n",
        "x_train, y_train = to_sequences(timesteps, train, y_close_train)\n",
        "x_test, y_test   = to_sequences(timesteps, test, y_close_test)\n",
        "\n",
        "print(\"Shape of x_train: {}\".format(x_train.shape))\n",
        "print(\"Shape of x_test: {}\".format(x_test.shape))\n",
        "print(\"Shape of y_train: {}\".format(y_train.shape))\n",
        "print(\"Shape of y_test: {}\".format(y_test.shape))"
      ],
      "execution_count": null,
      "outputs": [
        {
          "output_type": "stream",
          "text": [
            "Shape of x_train: (869, 20, 1, 5)\n",
            "Shape of x_test: (222, 20, 1, 5)\n",
            "Shape of y_train: (869,)\n",
            "Shape of y_test: (222,)\n"
          ],
          "name": "stdout"
        }
      ]
    },
    {
      "cell_type": "code",
      "metadata": {
        "id": "D8wWcIEavcq5",
        "colab": {
          "base_uri": "https://localhost:8080/"
        },
        "outputId": "ea5fb74b-8d47-4f76-eb56-079d686b58b0"
      },
      "source": [
        "x_train = np.reshape(x_train,(x_train.shape[0], x_train.shape[2], x_train.shape[1],x_train.shape[3]))\n",
        "x_test = np.reshape(x_test,(x_test.shape[0],x_test.shape[2],x_test.shape[1],x_test.shape[3]))\n",
        "x_train"
      ],
      "execution_count": null,
      "outputs": [
        {
          "output_type": "execute_result",
          "data": {
            "text/plain": [
              "array([[[[0.18434804, 0.49562358, 0.        , 1.        , 0.        ],\n",
              "         [0.17244985, 0.68879332, 0.        , 0.78697422, 0.21302578],\n",
              "         [0.15338277, 0.49562358, 0.        , 1.        , 0.        ],\n",
              "         ...,\n",
              "         [0.15338277, 0.49562358, 0.        , 1.        , 0.        ],\n",
              "         [0.16211978, 0.66764483, 0.13492063, 0.68113976, 0.20352782],\n",
              "         [0.16896501, 0.9284594 , 0.        , 0.65943012, 0.34056988]]],\n",
              "\n",
              "\n",
              "       [[[0.17244985, 0.68879332, 0.        , 0.78697422, 0.21302578],\n",
              "         [0.15338277, 0.49562358, 0.        , 1.        , 0.        ],\n",
              "         [0.15457758, 0.25443967, 0.37619048, 0.67842605, 0.        ],\n",
              "         ...,\n",
              "         [0.16211978, 0.66764483, 0.13492063, 0.68113976, 0.20352782],\n",
              "         [0.16896501, 0.9284594 , 0.        , 0.65943012, 0.34056988],\n",
              "         [0.16351369, 0.49562358, 0.        , 1.        , 0.        ]]],\n",
              "\n",
              "\n",
              "       [[[0.15338277, 0.49562358, 0.        , 1.        , 0.        ],\n",
              "         [0.15457758, 0.25443967, 0.37619048, 0.67842605, 0.        ],\n",
              "         [0.15373123, 0.94120921, 0.        , 0.        , 1.        ],\n",
              "         ...,\n",
              "         [0.16896501, 0.9284594 , 0.        , 0.65943012, 0.34056988],\n",
              "         [0.16351369, 0.49562358, 0.        , 1.        , 0.        ],\n",
              "         [0.16757105, 0.92274222, 0.1031746 , 0.49389417, 0.41791045]]],\n",
              "\n",
              "\n",
              "       ...,\n",
              "\n",
              "\n",
              "       [[[0.20142379, 0.96342019, 0.        , 0.79375848, 0.20624152],\n",
              "         [0.19405581, 0.81785985, 0.        , 0.81546811, 0.18453189],\n",
              "         [0.1986857 , 0.04022262, 0.35873016, 0.69335142, 0.        ],\n",
              "         ...,\n",
              "         [0.2282073 , 0.86592461, 0.        , 0.88059701, 0.11940299],\n",
              "         [0.2272614 , 0.22914242, 0.0968254 , 0.91723202, 0.        ],\n",
              "         [0.23647134, 0.49562358, 0.        , 1.        , 0.        ]]],\n",
              "\n",
              "\n",
              "       [[[0.19405581, 0.81785985, 0.        , 0.81546811, 0.18453189],\n",
              "         [0.1986857 , 0.04022262, 0.35873016, 0.69335142, 0.        ],\n",
              "         [0.19983074, 0.49562358, 0.        , 1.        , 0.        ],\n",
              "         ...,\n",
              "         [0.2272614 , 0.22914242, 0.0968254 , 0.91723202, 0.        ],\n",
              "         [0.23647134, 0.49562358, 0.        , 1.        , 0.        ],\n",
              "         [0.24513367, 0.49562358, 0.        , 1.        , 0.        ]]],\n",
              "\n",
              "\n",
              "       [[[0.1986857 , 0.04022262, 0.35873016, 0.69335142, 0.        ],\n",
              "         [0.19983074, 0.49562358, 0.        , 1.        , 0.        ],\n",
              "         [0.20147356, 0.8715406 , 0.        , 0.81818182, 0.18181818],\n",
              "         ...,\n",
              "         [0.23647134, 0.49562358, 0.        , 1.        , 0.        ],\n",
              "         [0.24513367, 0.49562358, 0.        , 1.        , 0.        ],\n",
              "         [0.2498631 , 0.90027827, 0.17142857, 0.59972863, 0.25373134]]]])"
            ]
          },
          "metadata": {
            "tags": []
          },
          "execution_count": 26
        }
      ]
    },
    {
      "cell_type": "code",
      "metadata": {
        "id": "4eHood5Nx86H"
      },
      "source": [
        "import numpy as np\n",
        "import pandas as pd\n",
        "\n",
        "import tensorflow as tf\n",
        "import keras\n",
        "from keras.models import Sequential\n",
        "from keras.layers.core import Dense, Activation, Flatten\n",
        "from keras.callbacks import ModelCheckpoint\n",
        "from keras.callbacks import EarlyStopping\n",
        "from keras.models import Sequential\n",
        "from keras.layers.core import Dense, Activation, Flatten, Dropout\n",
        "from keras.optimizers import Adam\n",
        "from keras.layers import Conv1D, Conv2D, MaxPooling2D\n",
        "from sklearn import metrics\n",
        "from sklearn.model_selection import train_test_split\n",
        "from sklearn.metrics import mean_squared_error,r2_score\n",
        "from sklearn.preprocessing import MinMaxScaler\n",
        "import csv\n",
        "import collections\n",
        "from scipy.stats import zscore\n",
        "from datetime import datetime\n",
        "import matplotlib.pyplot as plt"
      ],
      "execution_count": null,
      "outputs": []
    },
    {
      "cell_type": "code",
      "metadata": {
        "colab": {
          "base_uri": "https://localhost:8080/"
        },
        "id": "4G4BeCm4yBJn",
        "outputId": "f64ab813-1203-4e98-ed0e-6559d69f097d"
      },
      "source": [
        "cnn = Sequential()\n",
        "cnn.add(Conv2D(64, kernel_size = (1, 2), strides = (1, 2),  padding = 'valid', \n",
        "               activation = 'relu', input_shape = (1,steps,5)))\n",
        "cnn.add(MaxPooling2D(pool_size = (1,2)))\n",
        "cnn.add(Flatten())\n",
        "cnn.add(Dense(32, activation=\"relu\"))\n",
        "cnn.add(Dropout(0.5))\n",
        "cnn.add(Dense(1, activation=\"relu\"))\n",
        "cnn.summary()"
      ],
      "execution_count": null,
      "outputs": [
        {
          "output_type": "stream",
          "text": [
            "Model: \"sequential_1\"\n",
            "_________________________________________________________________\n",
            "Layer (type)                 Output Shape              Param #   \n",
            "=================================================================\n",
            "conv2d_1 (Conv2D)            (None, 1, 10, 64)         704       \n",
            "_________________________________________________________________\n",
            "max_pooling2d_1 (MaxPooling2 (None, 1, 5, 64)          0         \n",
            "_________________________________________________________________\n",
            "flatten_1 (Flatten)          (None, 320)               0         \n",
            "_________________________________________________________________\n",
            "dense_2 (Dense)              (None, 32)                10272     \n",
            "_________________________________________________________________\n",
            "dropout_1 (Dropout)          (None, 32)                0         \n",
            "_________________________________________________________________\n",
            "dense_3 (Dense)              (None, 1)                 33        \n",
            "=================================================================\n",
            "Total params: 11,009\n",
            "Trainable params: 11,009\n",
            "Non-trainable params: 0\n",
            "_________________________________________________________________\n"
          ],
          "name": "stdout"
        }
      ]
    },
    {
      "cell_type": "code",
      "metadata": {
        "id": "x00khPgjyGY6"
      },
      "source": [
        "cnn.compile(loss='mean_squared_error', optimizer='nadam')\n",
        "\n",
        "monitor = EarlyStopping(monitor='val_loss', min_delta=1, patience=2, verbose=2, mode='auto') \n",
        "checkpointer = ModelCheckpoint(filepath=\"CNN_Parameters.hdf5\", verbose=0, save_best_only=True)"
      ],
      "execution_count": null,
      "outputs": []
    },
    {
      "cell_type": "code",
      "metadata": {
        "colab": {
          "base_uri": "https://localhost:8080/"
        },
        "id": "Jj7tljb3yXhi",
        "outputId": "be1112ce-b8c1-4461-d03d-fb421be61f18"
      },
      "source": [
        "history = cnn.fit(x_train,y_train,validation_split=0.2,batch_size = 64, callbacks=[checkpointer],verbose=1,epochs = 30)"
      ],
      "execution_count": null,
      "outputs": [
        {
          "output_type": "stream",
          "text": [
            "Epoch 1/30\n",
            "11/11 [==============================] - 9s 52ms/step - loss: 0.0236 - val_loss: 0.0269\n",
            "Epoch 2/30\n",
            "11/11 [==============================] - 0s 4ms/step - loss: 0.0110 - val_loss: 0.0113\n",
            "Epoch 3/30\n",
            "11/11 [==============================] - 0s 5ms/step - loss: 0.0082 - val_loss: 0.0046\n",
            "Epoch 4/30\n",
            "11/11 [==============================] - 0s 5ms/step - loss: 0.0067 - val_loss: 0.0037\n",
            "Epoch 5/30\n",
            "11/11 [==============================] - 0s 5ms/step - loss: 0.0055 - val_loss: 0.0034\n",
            "Epoch 6/30\n",
            "11/11 [==============================] - 0s 5ms/step - loss: 0.0048 - val_loss: 0.0025\n",
            "Epoch 7/30\n",
            "11/11 [==============================] - 0s 5ms/step - loss: 0.0040 - val_loss: 0.0029\n",
            "Epoch 8/30\n",
            "11/11 [==============================] - 0s 6ms/step - loss: 0.0035 - val_loss: 0.0025\n",
            "Epoch 9/30\n",
            "11/11 [==============================] - 0s 4ms/step - loss: 0.0036 - val_loss: 0.0037\n",
            "Epoch 10/30\n",
            "11/11 [==============================] - 0s 5ms/step - loss: 0.0032 - val_loss: 0.0040\n",
            "Epoch 11/30\n",
            "11/11 [==============================] - 0s 7ms/step - loss: 0.0037 - val_loss: 0.0024\n",
            "Epoch 12/30\n",
            "11/11 [==============================] - 0s 5ms/step - loss: 0.0031 - val_loss: 0.0026\n",
            "Epoch 13/30\n",
            "11/11 [==============================] - 0s 4ms/step - loss: 0.0029 - val_loss: 0.0031\n",
            "Epoch 14/30\n",
            "11/11 [==============================] - 0s 5ms/step - loss: 0.0027 - val_loss: 0.0024\n",
            "Epoch 15/30\n",
            "11/11 [==============================] - 0s 4ms/step - loss: 0.0025 - val_loss: 0.0027\n",
            "Epoch 16/30\n",
            "11/11 [==============================] - 0s 6ms/step - loss: 0.0029 - val_loss: 0.0022\n",
            "Epoch 17/30\n",
            "11/11 [==============================] - 0s 5ms/step - loss: 0.0025 - val_loss: 0.0025\n",
            "Epoch 18/30\n",
            "11/11 [==============================] - 0s 5ms/step - loss: 0.0029 - val_loss: 0.0024\n",
            "Epoch 19/30\n",
            "11/11 [==============================] - 0s 5ms/step - loss: 0.0022 - val_loss: 0.0024\n",
            "Epoch 20/30\n",
            "11/11 [==============================] - 0s 4ms/step - loss: 0.0023 - val_loss: 0.0025\n",
            "Epoch 21/30\n",
            "11/11 [==============================] - 0s 5ms/step - loss: 0.0023 - val_loss: 0.0023\n",
            "Epoch 22/30\n",
            "11/11 [==============================] - 0s 4ms/step - loss: 0.0022 - val_loss: 0.0029\n",
            "Epoch 23/30\n",
            "11/11 [==============================] - 0s 4ms/step - loss: 0.0023 - val_loss: 0.0022\n",
            "Epoch 24/30\n",
            "11/11 [==============================] - 0s 5ms/step - loss: 0.0022 - val_loss: 0.0022\n",
            "Epoch 25/30\n",
            "11/11 [==============================] - 0s 4ms/step - loss: 0.0020 - val_loss: 0.0025\n",
            "Epoch 26/30\n",
            "11/11 [==============================] - 0s 5ms/step - loss: 0.0020 - val_loss: 0.0022\n",
            "Epoch 27/30\n",
            "11/11 [==============================] - 0s 4ms/step - loss: 0.0018 - val_loss: 0.0022\n",
            "Epoch 28/30\n",
            "11/11 [==============================] - 0s 5ms/step - loss: 0.0020 - val_loss: 0.0022\n",
            "Epoch 29/30\n",
            "11/11 [==============================] - 0s 4ms/step - loss: 0.0022 - val_loss: 0.0034\n",
            "Epoch 30/30\n",
            "11/11 [==============================] - 0s 5ms/step - loss: 0.0021 - val_loss: 0.0022\n"
          ],
          "name": "stdout"
        }
      ]
    },
    {
      "cell_type": "code",
      "metadata": {
        "id": "L_LrlkZFyMxT",
        "colab": {
          "base_uri": "https://localhost:8080/"
        },
        "outputId": "c5d057d1-d7f3-48b7-f34d-b9bb57bd483c"
      },
      "source": [
        "cnn.load_weights('CNN_Parameters.hdf5')\n",
        "pred = cnn.predict(x_test)\n",
        "print(pred.shape)\n",
        "x_test"
      ],
      "execution_count": null,
      "outputs": [
        {
          "output_type": "stream",
          "text": [
            "(222, 1)\n"
          ],
          "name": "stdout"
        },
        {
          "output_type": "execute_result",
          "data": {
            "text/plain": [
              "array([[[[0.20147356, 0.8715406 , 0.        , 0.81818182, 0.18181818],\n",
              "         [0.18633938, 0.70887933, 0.        , 0.93351425, 0.06648575],\n",
              "         [0.19121818, 0.49562358, 0.        , 1.        , 0.        ],\n",
              "         ...,\n",
              "         [0.2498631 , 0.90027827, 0.17142857, 0.59972863, 0.25373134],\n",
              "         [0.22049087, 0.14318239, 0.13968254, 0.79511533, 0.08548168],\n",
              "         [0.22621596, 0.91859347, 0.15238095, 0.59565807, 0.27408412]]],\n",
              "\n",
              "\n",
              "       [[[0.18633938, 0.70887933, 0.        , 0.93351425, 0.06648575],\n",
              "         [0.19121818, 0.49562358, 0.        , 1.        , 0.        ],\n",
              "         [0.21566184, 0.94510498, 0.07460317, 0.75712347, 0.18046133],\n",
              "         ...,\n",
              "         [0.22049087, 0.14318239, 0.13968254, 0.79511533, 0.08548168],\n",
              "         [0.22621596, 0.91859347, 0.15238095, 0.59565807, 0.27408412],\n",
              "         [0.23089556, 0.77763724, 0.        , 0.59972863, 0.40027137]]],\n",
              "\n",
              "\n",
              "       [[[0.19121818, 0.49562358, 0.        , 1.        , 0.        ],\n",
              "         [0.21566184, 0.94510498, 0.07460317, 0.75712347, 0.18046133],\n",
              "         [0.19564892, 0.49562358, 0.        , 1.        , 0.        ],\n",
              "         ...,\n",
              "         [0.22621596, 0.91859347, 0.15238095, 0.59565807, 0.27408412],\n",
              "         [0.23089556, 0.77763724, 0.        , 0.59972863, 0.40027137],\n",
              "         [0.23184146, 0.11970655, 0.32857143, 0.71913161, 0.        ]]],\n",
              "\n",
              "\n",
              "       ...,\n",
              "\n",
              "\n",
              "       [[[0.93005427, 0.90675436, 0.        , 0.578019  , 0.421981  ],\n",
              "         [0.93080102, 0.85909436, 0.        , 0.54816825, 0.45183175],\n",
              "         [0.91307806, 0.59797622, 0.        , 0.87652646, 0.12347354],\n",
              "         ...,\n",
              "         [0.91068844, 0.49562358, 0.        , 1.        , 0.        ],\n",
              "         [0.91043952, 0.75395902, 0.        , 0.9375848 , 0.0624152 ],\n",
              "         [0.89321452, 0.49562358, 0.        , 1.        , 0.        ]]],\n",
              "\n",
              "\n",
              "       [[[0.93080102, 0.85909436, 0.        , 0.54816825, 0.45183175],\n",
              "         [0.91307806, 0.59797622, 0.        , 0.87652646, 0.12347354],\n",
              "         [0.89321452, 0.49562358, 0.        , 1.        , 0.        ],\n",
              "         ...,\n",
              "         [0.91043952, 0.75395902, 0.        , 0.9375848 , 0.0624152 ],\n",
              "         [0.89321452, 0.49562358, 0.        , 1.        , 0.        ],\n",
              "         [0.90292229, 0.91176322, 0.        , 0.66214383, 0.33785617]]],\n",
              "\n",
              "\n",
              "       [[[0.91307806, 0.59797622, 0.        , 0.87652646, 0.12347354],\n",
              "         [0.89321452, 0.49562358, 0.        , 1.        , 0.        ],\n",
              "         [0.89560403, 0.93367063, 0.        , 0.71777476, 0.28222524],\n",
              "         ...,\n",
              "         [0.89321452, 0.49562358, 0.        , 1.        , 0.        ],\n",
              "         [0.90292229, 0.91176322, 0.        , 0.66214383, 0.33785617],\n",
              "         [0.9078508 , 0.64538325, 0.07777778, 0.79918589, 0.13432836]]]])"
            ]
          },
          "metadata": {
            "tags": []
          },
          "execution_count": 31
        }
      ]
    },
    {
      "cell_type": "code",
      "metadata": {
        "id": "GwywuY6E0DGE",
        "colab": {
          "base_uri": "https://localhost:8080/"
        },
        "outputId": "ee3b85e0-3806-424c-c946-1eef34a7c455"
      },
      "source": [
        "pred_temp = np.zeros(shape=(len(pred), 5) )\n",
        "# put the predicted values in the right field\n",
        "pred_temp[:,0] = pred[:,0]\n",
        "# inverse transform and then select the right field\n",
        "\n",
        "pred_temp=scaler.inverse_transform(pred_temp)[:,0]\n",
        "pred_temp"
      ],
      "execution_count": null,
      "outputs": [
        {
          "output_type": "execute_result",
          "data": {
            "text/plain": [
              "array([ 645.11079695,  676.21675202,  670.45167624,  680.23586643,\n",
              "        680.0551971 ,  685.98271364,  665.00369968,  703.35878721,\n",
              "        699.74695703,  704.36617738,  701.32374294,  688.94974946,\n",
              "        691.35134056,  700.40671737,  718.17663572,  710.92310326,\n",
              "        730.03232732,  708.7711148 ,  724.89899556,  701.23415657,\n",
              "        704.94524115,  724.76756431,  725.81838576,  705.05595948,\n",
              "        695.61577735,  696.95571163,  713.86595405,  686.69219097,\n",
              "        712.98831895,  716.18433429,  709.02652425,  701.55068709,\n",
              "        704.79947249,  699.5925081 ,  731.05860455,  745.49119876,\n",
              "        730.36837347,  756.05394926,  772.70438223,  785.15601923,\n",
              "        781.05303545,  790.85584332,  809.38747028,  804.32453851,\n",
              "        829.58133891,  851.11642889,  869.39261647,  870.80088543,\n",
              "        868.78829013,  891.56202463,  903.179368  ,  900.20960837,\n",
              "        896.29938644,  902.88154496,  912.85230108,  920.47704976,\n",
              "        919.82357513,  928.42997248,  937.2769929 ,  943.76076505,\n",
              "        923.91006639,  947.15953952,  936.86438078,  952.56626983,\n",
              "        925.39547002,  943.33531212,  935.31390506,  941.138306  ,\n",
              "        939.28845078,  916.74195975,  930.70453233,  948.43781396,\n",
              "        908.94213902,  924.75732055,  923.49733454,  908.06977194,\n",
              "        937.87512332,  910.80429627,  927.58469383,  924.49314104,\n",
              "        922.27278798,  907.6102265 ,  950.13914677,  919.50692489,\n",
              "        945.68096038,  936.44084349,  914.20420815,  940.65717961,\n",
              "        954.0187483 ,  925.0264089 ,  964.42423626,  942.00794927,\n",
              "        958.61737545,  951.5951572 ,  966.02403985,  982.1658689 ,\n",
              "       1006.25050368, 1019.50545471,  997.35747784, 1029.71093729,\n",
              "       1039.56100773, 1042.62526257, 1063.8431336 , 1061.39709354,\n",
              "       1041.39685478, 1073.37748169, 1060.04069667, 1068.63524097,\n",
              "       1080.08948507, 1062.63950948, 1073.9768992 , 1061.59308803,\n",
              "       1055.65602319, 1072.74777304, 1078.55708826, 1092.84756551,\n",
              "       1080.85849708, 1093.21219669, 1102.59461013, 1069.77145831,\n",
              "       1069.05620411, 1078.071951  , 1086.18812265, 1080.37168362,\n",
              "       1081.79153625, 1086.58561913, 1086.54940145, 1095.52683543,\n",
              "       1072.30681535, 1077.02337445, 1076.44449027, 1073.21375385,\n",
              "       1093.95540734, 1095.96354278, 1057.94390276, 1090.48593358,\n",
              "       1055.16040974, 1104.85962168, 1097.38860357, 1086.55167628,\n",
              "       1088.27360229, 1082.35928574, 1059.2533663 , 1115.02164305,\n",
              "       1084.2306321 , 1123.04328956, 1105.2968678 , 1121.84176068,\n",
              "       1119.74131507, 1134.83564512, 1103.02766578, 1110.57399271,\n",
              "       1120.62879779, 1124.04870422, 1155.42129322, 1183.17205476,\n",
              "       1194.19545818, 1176.71022273, 1205.43095949, 1126.06725598,\n",
              "       1197.85595773, 1166.36573612, 1216.09511948, 1184.04570891,\n",
              "       1232.4852641 , 1196.37384662, 1264.20518361, 1158.92794248,\n",
              "       1185.85515598, 1217.37087963, 1223.83043683, 1210.06867779,\n",
              "       1231.11605636, 1198.92021863, 1247.28368676, 1141.39984447,\n",
              "       1177.18195048, 1155.02032464, 1203.82528923, 1173.28109726,\n",
              "       1186.56669862, 1184.46032647, 1190.37015323, 1188.05030632,\n",
              "       1169.99702207, 1190.93850135, 1180.80910583, 1185.21401332,\n",
              "       1174.94148314, 1178.08763183, 1173.19567143, 1164.19297488,\n",
              "       1170.5311879 , 1192.52016618, 1193.69535493, 1196.18533512,\n",
              "       1196.5418248 , 1194.28800781, 1220.76414661, 1206.28946807,\n",
              "       1203.7656049 , 1201.48353213, 1211.54276713, 1214.66646685,\n",
              "       1226.81429441, 1201.6342695 , 1199.97795436, 1203.74357497,\n",
              "       1195.90140051, 1196.71842339, 1224.54832504, 1220.49074806,\n",
              "       1241.15164511, 1201.55471034, 1238.80946896, 1243.29399547,\n",
              "       1234.31189211, 1235.32802241, 1228.68947207, 1229.79120779,\n",
              "       1269.22381608, 1248.25084837])"
            ]
          },
          "metadata": {
            "tags": []
          },
          "execution_count": 32
        }
      ]
    },
    {
      "cell_type": "code",
      "metadata": {
        "id": "WX0pVebQb6nH"
      },
      "source": [
        "y_test_temp = np.zeros(shape=(len(y_test), 5) )\n",
        "# put the predicted values in the right field\n",
        "y_test_temp[:,0] = y_test\n",
        "# inverse transform and then select the right field\n",
        "\n",
        "y_test_temp=scaler.inverse_transform(y_test_temp)[:,0]\n"
      ],
      "execution_count": null,
      "outputs": []
    },
    {
      "cell_type": "code",
      "metadata": {
        "id": "RNf4TQax0E9d",
        "colab": {
          "base_uri": "https://localhost:8080/"
        },
        "outputId": "9fda357d-86be-4f50-d758-e5bb202de9aa"
      },
      "source": [
        "y_test_temp"
      ],
      "execution_count": null,
      "outputs": [
        {
          "output_type": "execute_result",
          "data": {
            "text/plain": [
              "array([ 668.599976,  669.549988,  672.200012,  692.349976,  680.549988,\n",
              "        705.450012,  707.400024,  691.      ,  699.549988,  708.099976,\n",
              "        701.549988,  707.75    ,  703.549988,  720.849976,  717.599976,\n",
              "        715.849976,  703.950012,  692.049988,  687.549988,  701.200012,\n",
              "        703.650024,  713.900024,  705.549988,  720.650024,  714.150024,\n",
              "        700.5     ,  748.200012,  731.75    ,  735.950012,  794.150024,\n",
              "        774.700012,  781.700012,  781.849976,  797.049988,  783.25    ,\n",
              "        830.950012,  911.      ,  903.150024,  934.299988,  936.75    ,\n",
              "        917.900024,  907.950012,  922.849976,  948.450012,  962.849976,\n",
              "        954.150024,  961.450012,  966.      ,  956.900024,  949.849976,\n",
              "        944.700012,  970.849976,  950.900024,  951.349976,  954.950012,\n",
              "        951.200012,  953.599976,  957.5     ,  967.549988,  959.299988,\n",
              "        955.150024,  948.799988,  947.400024,  938.099976,  950.799988,\n",
              "        947.049988,  935.25    ,  928.599976,  914.150024,  924.      ,\n",
              "        935.549988,  919.150024,  925.049988,  939.299988,  927.75    ,\n",
              "        940.049988,  945.700012,  978.400024,  982.450012, 1001.75    ,\n",
              "       1011.      , 1002.150024, 1009.900024, 1007.5     , 1019.75    ,\n",
              "        975.400024, 1011.450012, 1009.      , 1017.650024, 1048.699951,\n",
              "       1055.75    , 1093.699951, 1106.800049, 1132.099976, 1157.800049,\n",
              "       1137.      , 1108.25    , 1127.5     , 1125.900024, 1137.5     ,\n",
              "       1148.349976, 1129.050049, 1122.5     , 1090.849976, 1076.550049,\n",
              "       1074.849976, 1060.599976, 1072.300049, 1062.550049, 1093.949951,\n",
              "       1104.      , 1112.75    , 1136.550049, 1091.050049, 1122.5     ,\n",
              "       1117.75    , 1124.199951, 1123.699951, 1110.550049, 1096.75    ,\n",
              "       1103.349976, 1139.849976, 1140.050049, 1115.650024, 1113.199951,\n",
              "       1100.      , 1137.849976, 1140.900024, 1126.449951, 1134.650024,\n",
              "       1143.5     , 1153.349976, 1167.75    , 1163.199951, 1164.550049,\n",
              "       1154.599976, 1165.699951, 1159.199951, 1189.800049, 1177.300049,\n",
              "       1220.5     , 1253.050049, 1236.050049, 1240.300049, 1250.300049,\n",
              "       1246.800049, 1255.800049, 1260.449951, 1288.25    , 1293.800049,\n",
              "       1282.099976, 1262.150024, 1376.199951, 1387.150024, 1370.5     ,\n",
              "       1344.949951, 1312.050049, 1316.650024, 1339.449951, 1339.699951,\n",
              "       1340.849976, 1325.099976, 1301.      , 1276.199951, 1239.050049,\n",
              "       1260.900024, 1271.25    , 1284.650024, 1279.349976, 1272.099976,\n",
              "       1303.550049, 1305.550049, 1296.5     , 1292.650024, 1309.800049,\n",
              "       1309.650024, 1290.400024, 1281.300049, 1292.449951, 1291.300049,\n",
              "       1265.199951, 1266.349976, 1274.300049, 1274.550049, 1253.300049,\n",
              "       1267.      , 1304.5     , 1343.550049, 1330.349976, 1316.699951,\n",
              "       1335.75    , 1345.550049, 1368.150024, 1374.849976, 1373.599976,\n",
              "       1384.      , 1387.      , 1337.099976, 1344.449951, 1370.800049,\n",
              "       1371.550049, 1353.75    , 1333.800049, 1336.199951, 1368.050049,\n",
              "       1385.199951, 1409.900024, 1411.050049, 1430.199951, 1439.849976,\n",
              "       1441.050049, 1425.75    , 1397.150024, 1360.75    , 1353.75    ,\n",
              "       1362.550049, 1351.349976, 1351.099976, 1333.800049, 1343.550049,\n",
              "       1348.5     , 1356.      ])"
            ]
          },
          "metadata": {
            "tags": []
          },
          "execution_count": 34
        }
      ]
    },
    {
      "cell_type": "code",
      "metadata": {
        "id": "dfscUVQxyzit",
        "colab": {
          "base_uri": "https://localhost:8080/"
        },
        "outputId": "fd7715a5-d48d-4c38-d853-376fcd4dd97b"
      },
      "source": [
        "final_mape=mean_absolute_error(y_test_temp, pred_temp)\n",
        "print(\"Mean Absolute Error\",final_mape)\n",
        "final_mse=mean_squared_error(y_test_temp,pred_temp)\n",
        "print(\"Mean Squared Error: \",final_mse)\n",
        "final_rmse=np.sqrt(final_mse)\n",
        "print(\"Root Mean Squared Error: \",final_rmse)\n",
        "final_mse_1=mean_squared_error(y_test,pred)\n",
        "print(\"Mean Squared Error: \",final_mse_1)\n",
        "final_rmse_1=np.sqrt(final_mse_1)\n",
        "print(\"Root Mean Squared Error: \",final_rmse_1)"
      ],
      "execution_count": null,
      "outputs": [
        {
          "output_type": "stream",
          "text": [
            "Mean Absolute Error 85.69298286778141\n",
            "Mean Squared Error:  11274.734708620797\n",
            "Root Mean Squared Error:  106.18255369231237\n",
            "Mean Squared Error:  0.011177280039479078\n",
            "Root Mean Squared Error:  0.10572265622599102\n"
          ],
          "name": "stdout"
        }
      ]
    },
    {
      "cell_type": "code",
      "metadata": {
        "id": "WFaOLmUQ0bHI",
        "colab": {
          "base_uri": "https://localhost:8080/",
          "height": 507
        },
        "outputId": "5417e91f-60e0-4384-b541-3669a47467a2"
      },
      "source": [
        "plt.figure(figsize=(16,8))\n",
        "plt.title('INFY.NS Predicted Stock Value')\n",
        "plt.plot(pred_temp, label=\"Predicted Close Price\")\n",
        "plt.plot(y_test_temp, label=\"Testing Close Price\")\n",
        "plt.xlabel('Test Days',fontsize=18)\n",
        "plt.ylabel('Close Price',fontsize=18)\n",
        "plt.legend(loc='upper right', fancybox=True, shadow=True)\n",
        "plt.show()"
      ],
      "execution_count": null,
      "outputs": [
        {
          "output_type": "display_data",
          "data": {
            "image/png": "[encoded data removed]",
            "text/plain": [
              "<Figure size 1152x576 with 1 Axes>"
            ]
          },
          "metadata": {
            "tags": []
          }
        }
      ]
    },
    {
      "cell_type": "code",
      "metadata": {
        "id": "l5noFTU2LT7b"
      },
      "source": [
        "prediction = np.array(pred_temp)\n",
        "prediction = pd.DataFrame(pred_temp)\n",
        "prediction.to_csv('CNNSENT.csv')"
      ],
      "execution_count": null,
      "outputs": []
    }
  ]
}