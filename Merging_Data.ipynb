{
  "nbformat": 4,
  "nbformat_minor": 0,
  "metadata": {
    "colab": {
      "name": "Merging_data.ipynb",
      "provenance": [],
      "toc_visible": true
    },
    "kernelspec": {
      "name": "python3",
      "display_name": "Python 3"
    },
    "language_info": {
      "name": "python"
    }
  },
  "cells": [
    {
      "cell_type": "code",
      "metadata": {
        "id": "u48LZDEu8csm"
      },
      "source": [
        "import pandas as pd\n",
        "\n",
        "df1=pd.read_csv('/content/Apr2017I.csv')\n",
        "df2=pd.read_csv('/content/May2017I.csv')\n",
        "df3=pd.read_csv('/content/June2017I.csv')\n",
        "df4=pd.read_csv('/content/July2017I.csv')\n",
        "df5=pd.read_csv('/content/Aug2017I.csv')\n",
        "df6=pd.read_csv('/content/Sep2017I.csv')\n",
        "df7=pd.read_csv('/content/Oct2017I.csv')\n",
        "df8=pd.read_csv('/content/Nov2017I.csv')\n",
        "df9=pd.read_csv('/content/Dec2017I.csv')\n",
        "df10=pd.read_csv('/content/Jan2018I.csv')\n",
        "df11=pd.read_csv('/content/Feb2018I.csv')\n",
        "df12=pd.read_csv('/content/Mar2018I.csv')\n",
        "df13=pd.read_csv('/content/Apr2018I.csv')\n",
        "df14=pd.read_csv('/content/May2018I.csv')\n",
        "df15=pd.read_csv('/content/June2018I.csv')\n",
        "df16=pd.read_csv('/content/July2018I.csv')\n",
        "df17=pd.read_csv('/content/Aug2018I.csv')\n",
        "df18=pd.read_csv('/content/Sep2018I.csv')\n",
        "df19=pd.read_csv('/content/Oct2018I.csv')\n",
        "df20=pd.read_csv('/content/Nov2018I.csv')\n",
        "df21=pd.read_csv('/content/Dec2018I.csv')\n",
        "df22=pd.read_csv('/content/Jan2019I.csv')\n",
        "df23=pd.read_csv('/content/Feb2019I.csv')\n",
        "df24=pd.read_csv('/content/Mar2019I.csv')\n",
        "df=pd.concat([df1,df2,df3,df4,df5,df6,df7,df8,df9,df10,df11,df12,df13,df14,df15,df16,df17,df18,df19,df20,df21,df22,df23,df24])\n",
        "df.to_csv(\"Infosys(April 2017 to March 2019).csv\")"
      ],
      "execution_count": null,
      "outputs": []
    }
  ]
}