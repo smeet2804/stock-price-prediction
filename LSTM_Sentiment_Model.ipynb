{
  "nbformat": 4,
  "nbformat_minor": 0,
  "metadata": {
    "colab": {
      "name": "LSTM_SENTIMENT_v3_final_of_all.ipynb",
      "provenance": [],
      "collapsed_sections": []
    },
    "kernelspec": {
      "name": "python3",
      "display_name": "Python 3"
    },
    "language_info": {
      "name": "python"
    }
  },
  "cells": [
    {
      "cell_type": "code",
      "metadata": {
        "id": "8DGrvfxvUQrr"
      },
      "source": [
        "#Importing The Required Libraries\n",
        "import warnings\n",
        "warnings.filterwarnings('ignore')\n",
        "\n",
        "import math\n",
        "import pandas as pd\n",
        "import numpy as np\n",
        "import pandas_datareader as pdr\n",
        "\n",
        "import matplotlib.pyplot as plt\n",
        "plt.style.use('fivethirtyeight')\n",
        "import seaborn as sns\n",
        "\n",
        "from keras.models import Sequential\n",
        "from keras.layers import Dense, LSTM, Dropout, Dense, Activation\n",
        "\n",
        "from sklearn import preprocessing, metrics\n",
        "from sklearn.metrics import mean_absolute_error\n",
        "from sklearn.metrics import mean_squared_error\n",
        "from sklearn.preprocessing import MinMaxScaler"
      ],
      "execution_count": null,
      "outputs": []
    },
    {
      "cell_type": "code",
      "metadata": {
        "colab": {
          "base_uri": "https://localhost:8080/",
          "height": 415
        },
        "id": "dvby3ugdUWkR",
        "outputId": "ba4e8a28-307f-4bea-8e14-acd1156eee19"
      },
      "source": [
        "df= pd.read_csv('/content/INFY_Final_CNN.csv')\n",
        "df"
      ],
      "execution_count": null,
      "outputs": [
        {
          "output_type": "execute_result",
          "data": {
            "text/html": [
              "<div>\n",
              "<style scoped>\n",
              "    .dataframe tbody tr th:only-of-type {\n",
              "        vertical-align: middle;\n",
              "    }\n",
              "\n",
              "    .dataframe tbody tr th {\n",
              "        vertical-align: top;\n",
              "    }\n",
              "\n",
              "    .dataframe thead th {\n",
              "        text-align: right;\n",
              "    }\n",
              "</style>\n",
              "<table border=\"1\" class=\"dataframe\">\n",
              "  <thead>\n",
              "    <tr style=\"text-align: right;\">\n",
              "      <th></th>\n",
              "      <th>Date</th>\n",
              "      <th>close</th>\n",
              "      <th>compund</th>\n",
              "      <th>neg</th>\n",
              "      <th>neu</th>\n",
              "      <th>pos</th>\n",
              "      <th>open</th>\n",
              "      <th>high</th>\n",
              "      <th>low</th>\n",
              "      <th>volume</th>\n",
              "    </tr>\n",
              "  </thead>\n",
              "  <tbody>\n",
              "    <tr>\n",
              "      <th>0</th>\n",
              "      <td>04-04-2016</td>\n",
              "      <td>621.849976</td>\n",
              "      <td>0.0000</td>\n",
              "      <td>0.000</td>\n",
              "      <td>1.000</td>\n",
              "      <td>0.000</td>\n",
              "      <td>606.775024</td>\n",
              "      <td>624.000000</td>\n",
              "      <td>606.775024</td>\n",
              "      <td>4577054</td>\n",
              "    </tr>\n",
              "    <tr>\n",
              "      <th>1</th>\n",
              "      <td>05-04-2016</td>\n",
              "      <td>609.900024</td>\n",
              "      <td>0.3818</td>\n",
              "      <td>0.000</td>\n",
              "      <td>0.843</td>\n",
              "      <td>0.157</td>\n",
              "      <td>621.000000</td>\n",
              "      <td>621.150024</td>\n",
              "      <td>607.000000</td>\n",
              "      <td>4790716</td>\n",
              "    </tr>\n",
              "    <tr>\n",
              "      <th>2</th>\n",
              "      <td>07-04-2016</td>\n",
              "      <td>590.750000</td>\n",
              "      <td>0.0000</td>\n",
              "      <td>0.000</td>\n",
              "      <td>1.000</td>\n",
              "      <td>0.000</td>\n",
              "      <td>604.200012</td>\n",
              "      <td>604.200012</td>\n",
              "      <td>587.500000</td>\n",
              "      <td>5657890</td>\n",
              "    </tr>\n",
              "    <tr>\n",
              "      <th>3</th>\n",
              "      <td>11-04-2016</td>\n",
              "      <td>591.950012</td>\n",
              "      <td>-0.4767</td>\n",
              "      <td>0.237</td>\n",
              "      <td>0.763</td>\n",
              "      <td>0.000</td>\n",
              "      <td>582.900024</td>\n",
              "      <td>593.375000</td>\n",
              "      <td>575.549988</td>\n",
              "      <td>5768678</td>\n",
              "    </tr>\n",
              "    <tr>\n",
              "      <th>4</th>\n",
              "      <td>12-04-2016</td>\n",
              "      <td>591.099976</td>\n",
              "      <td>0.8807</td>\n",
              "      <td>0.000</td>\n",
              "      <td>0.263</td>\n",
              "      <td>0.737</td>\n",
              "      <td>590.250000</td>\n",
              "      <td>597.450012</td>\n",
              "      <td>589.299988</td>\n",
              "      <td>5842138</td>\n",
              "    </tr>\n",
              "    <tr>\n",
              "      <th>...</th>\n",
              "      <td>...</td>\n",
              "      <td>...</td>\n",
              "      <td>...</td>\n",
              "      <td>...</td>\n",
              "      <td>...</td>\n",
              "      <td>...</td>\n",
              "      <td>...</td>\n",
              "      <td>...</td>\n",
              "      <td>...</td>\n",
              "      <td>...</td>\n",
              "    </tr>\n",
              "    <tr>\n",
              "      <th>1108</th>\n",
              "      <td>23-04-2021</td>\n",
              "      <td>1333.800049</td>\n",
              "      <td>0.0000</td>\n",
              "      <td>0.000</td>\n",
              "      <td>1.000</td>\n",
              "      <td>0.000</td>\n",
              "      <td>1343.000000</td>\n",
              "      <td>1348.400024</td>\n",
              "      <td>1331.000000</td>\n",
              "      <td>7316262</td>\n",
              "    </tr>\n",
              "    <tr>\n",
              "      <th>1109</th>\n",
              "      <td>26-04-2021</td>\n",
              "      <td>1343.550049</td>\n",
              "      <td>0.8225</td>\n",
              "      <td>0.000</td>\n",
              "      <td>0.751</td>\n",
              "      <td>0.249</td>\n",
              "      <td>1332.250000</td>\n",
              "      <td>1351.300049</td>\n",
              "      <td>1321.000000</td>\n",
              "      <td>7088606</td>\n",
              "    </tr>\n",
              "    <tr>\n",
              "      <th>1110</th>\n",
              "      <td>27-04-2021</td>\n",
              "      <td>1348.500000</td>\n",
              "      <td>0.2960</td>\n",
              "      <td>0.049</td>\n",
              "      <td>0.852</td>\n",
              "      <td>0.099</td>\n",
              "      <td>1346.000000</td>\n",
              "      <td>1353.000000</td>\n",
              "      <td>1340.150024</td>\n",
              "      <td>3636115</td>\n",
              "    </tr>\n",
              "    <tr>\n",
              "      <th>1111</th>\n",
              "      <td>28-04-2021</td>\n",
              "      <td>1356.000000</td>\n",
              "      <td>0.2023</td>\n",
              "      <td>0.000</td>\n",
              "      <td>0.964</td>\n",
              "      <td>0.036</td>\n",
              "      <td>1358.000000</td>\n",
              "      <td>1359.500000</td>\n",
              "      <td>1344.599976</td>\n",
              "      <td>4879234</td>\n",
              "    </tr>\n",
              "    <tr>\n",
              "      <th>1112</th>\n",
              "      <td>29-04-2021</td>\n",
              "      <td>1356.349976</td>\n",
              "      <td>0.7783</td>\n",
              "      <td>0.000</td>\n",
              "      <td>0.929</td>\n",
              "      <td>0.071</td>\n",
              "      <td>1368.000000</td>\n",
              "      <td>1369.000000</td>\n",
              "      <td>1351.400024</td>\n",
              "      <td>5412357</td>\n",
              "    </tr>\n",
              "  </tbody>\n",
              "</table>\n",
              "<p>1113 rows × 10 columns</p>\n",
              "</div>"
            ],
            "text/plain": [
              "            Date        close  compund  ...         high          low   volume\n",
              "0     04-04-2016   621.849976   0.0000  ...   624.000000   606.775024  4577054\n",
              "1     05-04-2016   609.900024   0.3818  ...   621.150024   607.000000  4790716\n",
              "2     07-04-2016   590.750000   0.0000  ...   604.200012   587.500000  5657890\n",
              "3     11-04-2016   591.950012  -0.4767  ...   593.375000   575.549988  5768678\n",
              "4     12-04-2016   591.099976   0.8807  ...   597.450012   589.299988  5842138\n",
              "...          ...          ...      ...  ...          ...          ...      ...\n",
              "1108  23-04-2021  1333.800049   0.0000  ...  1348.400024  1331.000000  7316262\n",
              "1109  26-04-2021  1343.550049   0.8225  ...  1351.300049  1321.000000  7088606\n",
              "1110  27-04-2021  1348.500000   0.2960  ...  1353.000000  1340.150024  3636115\n",
              "1111  28-04-2021  1356.000000   0.2023  ...  1359.500000  1344.599976  4879234\n",
              "1112  29-04-2021  1356.349976   0.7783  ...  1369.000000  1351.400024  5412357\n",
              "\n",
              "[1113 rows x 10 columns]"
            ]
          },
          "metadata": {
            "tags": []
          },
          "execution_count": 55
        }
      ]
    },
    {
      "cell_type": "code",
      "metadata": {
        "colab": {
          "base_uri": "https://localhost:8080/",
          "height": 507
        },
        "id": "FsF1AXFcUdqD",
        "outputId": "07b81bc1-1603-400c-a2df-a33a3d5fe8dc"
      },
      "source": [
        "# Showing the graph of Historical Stock Value of AAPL\n",
        "plt.figure(figsize=(16,8))\n",
        "plt.plot(df['close'])\n",
        "plt.title('INFY.NS Historical Stock Value')\n",
        "plt.xlabel('Year',fontsize=18)\n",
        "plt.ylabel('Close Price USD($)',fontsize=18)\n",
        "plt.show()"
      ],
      "execution_count": null,
      "outputs": [
        {
          "output_type": "display_data",
          "data": {
            "image/png": "[encoded data removed]",
            "text/plain": [
              "<Figure size 1152x576 with 1 Axes>"
            ]
          },
          "metadata": {
            "tags": []
          }
        }
      ]
    },
    {
      "cell_type": "code",
      "metadata": {
        "colab": {
          "base_uri": "https://localhost:8080/",
          "height": 415
        },
        "id": "Dc_23ikdUeJb",
        "outputId": "988b4b19-8c15-4633-a5c6-a940367e972e"
      },
      "source": [
        "df = df.drop(columns=['Date','open','high','low','volume'])\n",
        "df"
      ],
      "execution_count": null,
      "outputs": [
        {
          "output_type": "execute_result",
          "data": {
            "text/html": [
              "<div>\n",
              "<style scoped>\n",
              "    .dataframe tbody tr th:only-of-type {\n",
              "        vertical-align: middle;\n",
              "    }\n",
              "\n",
              "    .dataframe tbody tr th {\n",
              "        vertical-align: top;\n",
              "    }\n",
              "\n",
              "    .dataframe thead th {\n",
              "        text-align: right;\n",
              "    }\n",
              "</style>\n",
              "<table border=\"1\" class=\"dataframe\">\n",
              "  <thead>\n",
              "    <tr style=\"text-align: right;\">\n",
              "      <th></th>\n",
              "      <th>close</th>\n",
              "      <th>compund</th>\n",
              "      <th>neg</th>\n",
              "      <th>neu</th>\n",
              "      <th>pos</th>\n",
              "    </tr>\n",
              "  </thead>\n",
              "  <tbody>\n",
              "    <tr>\n",
              "      <th>0</th>\n",
              "      <td>621.849976</td>\n",
              "      <td>0.0000</td>\n",
              "      <td>0.000</td>\n",
              "      <td>1.000</td>\n",
              "      <td>0.000</td>\n",
              "    </tr>\n",
              "    <tr>\n",
              "      <th>1</th>\n",
              "      <td>609.900024</td>\n",
              "      <td>0.3818</td>\n",
              "      <td>0.000</td>\n",
              "      <td>0.843</td>\n",
              "      <td>0.157</td>\n",
              "    </tr>\n",
              "    <tr>\n",
              "      <th>2</th>\n",
              "      <td>590.750000</td>\n",
              "      <td>0.0000</td>\n",
              "      <td>0.000</td>\n",
              "      <td>1.000</td>\n",
              "      <td>0.000</td>\n",
              "    </tr>\n",
              "    <tr>\n",
              "      <th>3</th>\n",
              "      <td>591.950012</td>\n",
              "      <td>-0.4767</td>\n",
              "      <td>0.237</td>\n",
              "      <td>0.763</td>\n",
              "      <td>0.000</td>\n",
              "    </tr>\n",
              "    <tr>\n",
              "      <th>4</th>\n",
              "      <td>591.099976</td>\n",
              "      <td>0.8807</td>\n",
              "      <td>0.000</td>\n",
              "      <td>0.263</td>\n",
              "      <td>0.737</td>\n",
              "    </tr>\n",
              "    <tr>\n",
              "      <th>...</th>\n",
              "      <td>...</td>\n",
              "      <td>...</td>\n",
              "      <td>...</td>\n",
              "      <td>...</td>\n",
              "      <td>...</td>\n",
              "    </tr>\n",
              "    <tr>\n",
              "      <th>1108</th>\n",
              "      <td>1333.800049</td>\n",
              "      <td>0.0000</td>\n",
              "      <td>0.000</td>\n",
              "      <td>1.000</td>\n",
              "      <td>0.000</td>\n",
              "    </tr>\n",
              "    <tr>\n",
              "      <th>1109</th>\n",
              "      <td>1343.550049</td>\n",
              "      <td>0.8225</td>\n",
              "      <td>0.000</td>\n",
              "      <td>0.751</td>\n",
              "      <td>0.249</td>\n",
              "    </tr>\n",
              "    <tr>\n",
              "      <th>1110</th>\n",
              "      <td>1348.500000</td>\n",
              "      <td>0.2960</td>\n",
              "      <td>0.049</td>\n",
              "      <td>0.852</td>\n",
              "      <td>0.099</td>\n",
              "    </tr>\n",
              "    <tr>\n",
              "      <th>1111</th>\n",
              "      <td>1356.000000</td>\n",
              "      <td>0.2023</td>\n",
              "      <td>0.000</td>\n",
              "      <td>0.964</td>\n",
              "      <td>0.036</td>\n",
              "    </tr>\n",
              "    <tr>\n",
              "      <th>1112</th>\n",
              "      <td>1356.349976</td>\n",
              "      <td>0.7783</td>\n",
              "      <td>0.000</td>\n",
              "      <td>0.929</td>\n",
              "      <td>0.071</td>\n",
              "    </tr>\n",
              "  </tbody>\n",
              "</table>\n",
              "<p>1113 rows × 5 columns</p>\n",
              "</div>"
            ],
            "text/plain": [
              "            close  compund    neg    neu    pos\n",
              "0      621.849976   0.0000  0.000  1.000  0.000\n",
              "1      609.900024   0.3818  0.000  0.843  0.157\n",
              "2      590.750000   0.0000  0.000  1.000  0.000\n",
              "3      591.950012  -0.4767  0.237  0.763  0.000\n",
              "4      591.099976   0.8807  0.000  0.263  0.737\n",
              "...           ...      ...    ...    ...    ...\n",
              "1108  1333.800049   0.0000  0.000  1.000  0.000\n",
              "1109  1343.550049   0.8225  0.000  0.751  0.249\n",
              "1110  1348.500000   0.2960  0.049  0.852  0.099\n",
              "1111  1356.000000   0.2023  0.000  0.964  0.036\n",
              "1112  1356.349976   0.7783  0.000  0.929  0.071\n",
              "\n",
              "[1113 rows x 5 columns]"
            ]
          },
          "metadata": {
            "tags": []
          },
          "execution_count": 57
        }
      ]
    },
    {
      "cell_type": "code",
      "metadata": {
        "id": "bdNFRiJyU04m"
      },
      "source": [
        "scaler = MinMaxScaler(feature_range=(0,1))\n",
        "#df = scaler.fit_transform(df)  \n",
        "#y_close = df[:,0]\n",
        "scaled_data=scaler.fit_transform(df)"
      ],
      "execution_count": null,
      "outputs": []
    },
    {
      "cell_type": "code",
      "metadata": {
        "colab": {
          "base_uri": "https://localhost:8080/"
        },
        "id": "GgeSf3lbVjgC",
        "outputId": "2a48b1c5-f11e-4e45-ff59-ea205e78da5a"
      },
      "source": [
        "scaled_data"
      ],
      "execution_count": null,
      "outputs": [
        {
          "output_type": "execute_result",
          "data": {
            "text/plain": [
              "array([[0.18434804, 0.49562358, 0.        , 1.        , 0.        ],\n",
              "       [0.17244985, 0.68879332, 0.        , 0.78697422, 0.21302578],\n",
              "       [0.15338277, 0.49562358, 0.        , 1.        , 0.        ],\n",
              "       ...,\n",
              "       [0.9078508 , 0.64538325, 0.07777778, 0.79918589, 0.13432836],\n",
              "       [0.91531832, 0.59797622, 0.        , 0.95115332, 0.04884668],\n",
              "       [0.91566678, 0.88940046, 0.        , 0.9036635 , 0.0963365 ]])"
            ]
          },
          "metadata": {
            "tags": []
          },
          "execution_count": 59
        }
      ]
    },
    {
      "cell_type": "code",
      "metadata": {
        "colab": {
          "base_uri": "https://localhost:8080/"
        },
        "id": "2JSOTJLUVWaF",
        "outputId": "43e6abc5-799f-49bf-8d86-e8063e6ddc48"
      },
      "source": [
        "training_data_len=math.ceil(len(df) * .8 )\n",
        "\n",
        "training_data_len"
      ],
      "execution_count": null,
      "outputs": [
        {
          "output_type": "execute_result",
          "data": {
            "text/plain": [
              "891"
            ]
          },
          "metadata": {
            "tags": []
          },
          "execution_count": 60
        }
      ]
    },
    {
      "cell_type": "code",
      "metadata": {
        "id": "823qg7_uhhAc"
      },
      "source": [
        "steps=20"
      ],
      "execution_count": null,
      "outputs": []
    },
    {
      "cell_type": "code",
      "metadata": {
        "colab": {
          "base_uri": "https://localhost:8080/"
        },
        "id": "gu2SFUqyU7Vh",
        "outputId": "11fb2b1e-2bba-472d-8e3d-23dcb5ad6f01"
      },
      "source": [
        "# Create the training  Data set\n",
        "# Create the Scaled Training data set\n",
        "train_data=scaled_data[0:training_data_len]\n",
        "\n",
        "#split the data into X_train and Y_train data sets\n",
        "X_train=[]\n",
        "Y_train=[]\n",
        "\n",
        "for i in range(steps,len(train_data)):\n",
        "  X_train.append(train_data[i-steps:i])\n",
        "  Y_train.append(train_data[i,0])\n",
        "  if i<=steps:\n",
        "    print(X_train)\n",
        "    print(Y_train)\n",
        "    print()"
      ],
      "execution_count": null,
      "outputs": [
        {
          "output_type": "stream",
          "text": [
            "[array([[0.18434804, 0.49562358, 0.        , 1.        , 0.        ],\n",
            "       [0.17244985, 0.68879332, 0.        , 0.78697422, 0.21302578],\n",
            "       [0.15338277, 0.49562358, 0.        , 1.        , 0.        ],\n",
            "       [0.15457758, 0.25443967, 0.37619048, 0.67842605, 0.        ],\n",
            "       [0.15373123, 0.94120921, 0.        , 0.        , 1.        ],\n",
            "       [0.1490018 , 0.49562358, 0.        , 1.        , 0.        ],\n",
            "       [0.18185887, 0.49562358, 0.        , 1.        , 0.        ],\n",
            "       [0.18429827, 0.75330129, 0.        , 0.79918589, 0.20081411],\n",
            "       [0.17568577, 0.29228434, 0.1968254 , 0.83175034, 0.        ],\n",
            "       [0.17048337, 0.16797369, 0.32698413, 0.61601085, 0.10583446],\n",
            "       [0.17859809, 0.07948394, 0.88730159, 0.24151967, 0.        ],\n",
            "       [0.18258077, 0.71844169, 0.1047619 , 0.77204885, 0.13839891],\n",
            "       [0.1671479 , 0.78497344, 0.12063492, 0.74084125, 0.15468114],\n",
            "       [0.16662515, 0.67837086, 0.        , 0.83446404, 0.16553596],\n",
            "       [0.16311545, 0.49562358, 0.        , 1.        , 0.        ],\n",
            "       [0.15704184, 0.49562358, 0.        , 1.        , 0.        ],\n",
            "       [0.15883403, 0.6101189 , 0.11587302, 0.72184532, 0.17774763],\n",
            "       [0.15338277, 0.49562358, 0.        , 1.        , 0.        ],\n",
            "       [0.16211978, 0.66764483, 0.13492063, 0.68113976, 0.20352782],\n",
            "       [0.16896501, 0.9284594 , 0.        , 0.65943012, 0.34056988]])]\n",
            "[0.16351368541842354]\n",
            "\n"
          ],
          "name": "stdout"
        }
      ]
    },
    {
      "cell_type": "code",
      "metadata": {
        "id": "dFytI1FuXHPk"
      },
      "source": [
        "#Convert X_train and Y_train into numpy array\n",
        "X_train,Y_train=np.array(X_train),np.array(Y_train)"
      ],
      "execution_count": null,
      "outputs": []
    },
    {
      "cell_type": "code",
      "metadata": {
        "colab": {
          "base_uri": "https://localhost:8080/"
        },
        "id": "moe9hpYJXF2q",
        "outputId": "77e0ffbf-151a-44b7-8aaf-15b6376207a9"
      },
      "source": [
        "print(\"Shape of x_train: {}\".format(X_train.shape))\n",
        "#print(\"Shape of x_test: {}\".format(X_test.shape))\n",
        "print(\"Shape of y_train: {}\".format(Y_train.shape))\n",
        "#print(\"Shape of y_test: {}\".format(Y_test.shape))\n",
        "#print(X_train.dim)"
      ],
      "execution_count": null,
      "outputs": [
        {
          "output_type": "stream",
          "text": [
            "Shape of x_train: (871, 20, 5)\n",
            "Shape of y_train: (871,)\n"
          ],
          "name": "stdout"
        }
      ]
    },
    {
      "cell_type": "code",
      "metadata": {
        "colab": {
          "base_uri": "https://localhost:8080/"
        },
        "id": "oPvdGhXsXZzm",
        "outputId": "d74555b9-5a3e-4187-d61b-a46604f821e5"
      },
      "source": [
        "#Building the LSTM Model\n",
        "# setting the seed to achieve consistent and less random predictions at each execution\n",
        "np.random.seed(2016)\n",
        "\n",
        "# setting the model architecture\n",
        "model=Sequential()\n",
        "model.add(LSTM(50,return_sequences=True,activation='tanh',input_shape=(X_train.shape[1],5)))\n",
        "model.add(Dropout(0.1))\n",
        "#model.add(LSTM(50,return_sequences=True,activation='tanh'))\n",
        "#model.add(Dropout(0.1))\n",
        "model.add(LSTM(50,activation='tanh'))\n",
        "model.add(Dropout(0.1))\n",
        "model.add(Dense(1))\n",
        "\n",
        "# printing the model summary\n",
        "model.summary()"
      ],
      "execution_count": null,
      "outputs": [
        {
          "output_type": "stream",
          "text": [
            "Model: \"sequential_2\"\n",
            "_________________________________________________________________\n",
            "Layer (type)                 Output Shape              Param #   \n",
            "=================================================================\n",
            "lstm_4 (LSTM)                (None, 20, 50)            11200     \n",
            "_________________________________________________________________\n",
            "dropout_4 (Dropout)          (None, 20, 50)            0         \n",
            "_________________________________________________________________\n",
            "lstm_5 (LSTM)                (None, 50)                20200     \n",
            "_________________________________________________________________\n",
            "dropout_5 (Dropout)          (None, 50)                0         \n",
            "_________________________________________________________________\n",
            "dense_2 (Dense)              (None, 1)                 51        \n",
            "=================================================================\n",
            "Total params: 31,451\n",
            "Trainable params: 31,451\n",
            "Non-trainable params: 0\n",
            "_________________________________________________________________\n"
          ],
          "name": "stdout"
        }
      ]
    },
    {
      "cell_type": "code",
      "metadata": {
        "colab": {
          "base_uri": "https://localhost:8080/"
        },
        "id": "AASyBKg6XcTY",
        "outputId": "4042dd0d-aefe-4c9d-c574-bce637836865"
      },
      "source": [
        "# compiling the model\n",
        "\n",
        "model.compile(loss='mse' , optimizer='adam')\n",
        "\n",
        "# fitting the model using the training dataset\n",
        "model.fit(X_train, Y_train, validation_split=0.2, epochs=30, batch_size=16, verbose=1)"
      ],
      "execution_count": null,
      "outputs": [
        {
          "output_type": "stream",
          "text": [
            "Epoch 1/30\n",
            "44/44 [==============================] - 5s 40ms/step - loss: 0.0094 - val_loss: 0.0023\n",
            "Epoch 2/30\n",
            "44/44 [==============================] - 1s 19ms/step - loss: 0.0012 - val_loss: 0.0021\n",
            "Epoch 3/30\n",
            "44/44 [==============================] - 1s 20ms/step - loss: 6.3836e-04 - val_loss: 0.0022\n",
            "Epoch 4/30\n",
            "44/44 [==============================] - 1s 19ms/step - loss: 6.3263e-04 - val_loss: 0.0019\n",
            "Epoch 5/30\n",
            "44/44 [==============================] - 1s 19ms/step - loss: 6.8648e-04 - val_loss: 0.0022\n",
            "Epoch 6/30\n",
            "44/44 [==============================] - 1s 18ms/step - loss: 5.8669e-04 - val_loss: 0.0017\n",
            "Epoch 7/30\n",
            "44/44 [==============================] - 1s 18ms/step - loss: 5.2061e-04 - val_loss: 0.0019\n",
            "Epoch 8/30\n",
            "44/44 [==============================] - 1s 19ms/step - loss: 5.9110e-04 - val_loss: 0.0018\n",
            "Epoch 9/30\n",
            "44/44 [==============================] - 1s 19ms/step - loss: 6.3633e-04 - val_loss: 0.0016\n",
            "Epoch 10/30\n",
            "44/44 [==============================] - 1s 19ms/step - loss: 4.6636e-04 - val_loss: 0.0016\n",
            "Epoch 11/30\n",
            "44/44 [==============================] - 1s 18ms/step - loss: 5.0747e-04 - val_loss: 0.0016\n",
            "Epoch 12/30\n",
            "44/44 [==============================] - 1s 18ms/step - loss: 5.0700e-04 - val_loss: 0.0020\n",
            "Epoch 13/30\n",
            "44/44 [==============================] - 1s 19ms/step - loss: 4.9139e-04 - val_loss: 0.0015\n",
            "Epoch 14/30\n",
            "44/44 [==============================] - 1s 19ms/step - loss: 4.6725e-04 - val_loss: 0.0015\n",
            "Epoch 15/30\n",
            "44/44 [==============================] - 1s 19ms/step - loss: 4.9806e-04 - val_loss: 0.0014\n",
            "Epoch 16/30\n",
            "44/44 [==============================] - 1s 20ms/step - loss: 4.3930e-04 - val_loss: 0.0014\n",
            "Epoch 17/30\n",
            "44/44 [==============================] - 1s 19ms/step - loss: 5.1109e-04 - val_loss: 0.0014\n",
            "Epoch 18/30\n",
            "44/44 [==============================] - 1s 20ms/step - loss: 3.9559e-04 - val_loss: 0.0014\n",
            "Epoch 19/30\n",
            "44/44 [==============================] - 1s 19ms/step - loss: 4.0386e-04 - val_loss: 0.0014\n",
            "Epoch 20/30\n",
            "44/44 [==============================] - 1s 18ms/step - loss: 5.7233e-04 - val_loss: 0.0013\n",
            "Epoch 21/30\n",
            "44/44 [==============================] - 1s 18ms/step - loss: 4.0218e-04 - val_loss: 0.0013\n",
            "Epoch 22/30\n",
            "44/44 [==============================] - 1s 19ms/step - loss: 3.9525e-04 - val_loss: 0.0013\n",
            "Epoch 23/30\n",
            "44/44 [==============================] - 1s 19ms/step - loss: 3.7018e-04 - val_loss: 0.0013\n",
            "Epoch 24/30\n",
            "44/44 [==============================] - 1s 18ms/step - loss: 3.6420e-04 - val_loss: 0.0012\n",
            "Epoch 25/30\n",
            "44/44 [==============================] - 1s 18ms/step - loss: 3.5725e-04 - val_loss: 0.0012\n",
            "Epoch 26/30\n",
            "44/44 [==============================] - 1s 18ms/step - loss: 4.0177e-04 - val_loss: 0.0011\n",
            "Epoch 27/30\n",
            "44/44 [==============================] - 1s 18ms/step - loss: 3.8196e-04 - val_loss: 0.0012\n",
            "Epoch 28/30\n",
            "44/44 [==============================] - 1s 19ms/step - loss: 4.3479e-04 - val_loss: 0.0012\n",
            "Epoch 29/30\n",
            "44/44 [==============================] - 1s 18ms/step - loss: 3.3730e-04 - val_loss: 0.0011\n",
            "Epoch 30/30\n",
            "44/44 [==============================] - 1s 18ms/step - loss: 4.4806e-04 - val_loss: 0.0012\n"
          ],
          "name": "stdout"
        },
        {
          "output_type": "execute_result",
          "data": {
            "text/plain": [
              "<keras.callbacks.History at 0x7f63345bb3d0>"
            ]
          },
          "metadata": {
            "tags": []
          },
          "execution_count": 66
        }
      ]
    },
    {
      "cell_type": "code",
      "metadata": {
        "id": "HBPcnW5wXq_W"
      },
      "source": [
        "# Create the Testing Data Set\n",
        "# Create a new array containing scaled values from index 1744 to 2254\n",
        "test_data=scaled_data[training_data_len - steps:]\n",
        "\n",
        "# Create the Datasets X_test and Y_test\n",
        "X_test=[]\n",
        "Y_test=df[training_data_len:]\n",
        "for i in range(steps,len(test_data)):\n",
        "  X_test.append(test_data[i-steps:i])\n",
        "\n"
      ],
      "execution_count": null,
      "outputs": []
    },
    {
      "cell_type": "code",
      "metadata": {
        "id": "JBOhAOMgXtJ0"
      },
      "source": [
        "#Convert the Data to a numpy array\n",
        "X_test=np.array(X_test)"
      ],
      "execution_count": null,
      "outputs": []
    },
    {
      "cell_type": "code",
      "metadata": {
        "id": "ZWCAY0tTXurC"
      },
      "source": [
        "# Reshaping the Data\n",
        "#X_test=np.reshape(X_test,(X_test.shape[0],X_test.shape[1],1))"
      ],
      "execution_count": null,
      "outputs": []
    },
    {
      "cell_type": "code",
      "metadata": {
        "id": "dizf_8IYYX4h"
      },
      "source": [
        "prediction=model.predict(X_test)"
      ],
      "execution_count": null,
      "outputs": []
    },
    {
      "cell_type": "code",
      "metadata": {
        "colab": {
          "base_uri": "https://localhost:8080/"
        },
        "id": "X1PvaeMSYQAg",
        "outputId": "39dafd3c-5832-4349-be1d-53c28b8ece3c"
      },
      "source": [
        "pred_temp = np.zeros(shape=(len(prediction), 5) )\n",
        "# put the predicted values in the right field\n",
        "pred_temp[:,0] = prediction[:,0]\n",
        "# inverse transform and then select the right field\n",
        "\n",
        "pred_temp=scaler.inverse_transform(pred_temp)[:,0]\n",
        "pred_temp"
      ],
      "execution_count": null,
      "outputs": [
        {
          "output_type": "execute_result",
          "data": {
            "text/plain": [
              "array([ 679.00452531,  674.02438534,  673.68579497,  678.07040859,\n",
              "        682.45624942,  689.0422991 ,  692.91753056,  696.07765748,\n",
              "        699.28331092,  704.44109709,  709.73387641,  711.24145962,\n",
              "        715.28556722,  719.03260009,  721.66888771,  720.73818324,\n",
              "        721.30991367,  719.33428435,  716.37263628,  716.10501459,\n",
              "        713.46693105,  708.07310141,  705.51352941,  703.30131784,\n",
              "        707.62253556,  708.17256533,  708.66255157,  714.87849252,\n",
              "        720.11526914,  728.52420533,  739.31602515,  746.57410727,\n",
              "        753.4241868 ,  756.98327686,  758.71295524,  771.46699486,\n",
              "        794.41020414,  813.68324583,  837.67033234,  855.74588597,\n",
              "        872.24974213,  886.48685068,  893.28389077,  903.29355844,\n",
              "        914.64378897,  914.93062697,  916.94675424,  929.14693281,\n",
              "        937.86048659,  948.31221944,  949.78714688,  943.81937184,\n",
              "        938.83240738,  940.38863003,  943.86911876,  951.64250957,\n",
              "        955.57544986,  956.9723746 ,  959.35028952,  962.27039202,\n",
              "        956.73615154,  949.38923135,  941.67043644,  933.64738313,\n",
              "        932.7104528 ,  934.37942916,  929.61806192,  924.59760359,\n",
              "        914.63483931,  915.99937766,  921.25623863,  922.27305737,\n",
              "        921.23510667,  918.78314007,  922.4669267 ,  927.64485708,\n",
              "        936.08297694,  940.36510351,  943.31956791,  950.09730188,\n",
              "        954.06316733,  954.28250876,  963.43809778,  964.92673406,\n",
              "        973.17233153,  968.16333715,  972.87229352,  972.10537675,\n",
              "        971.73541768,  981.46384463,  993.13066553, 1010.06982223,\n",
              "       1019.68085601, 1029.4920149 , 1049.35654213, 1068.74425318,\n",
              "       1084.22027564, 1096.15480803, 1099.90779735, 1106.22661446,\n",
              "       1107.29566447, 1097.34951242, 1085.36930386, 1086.79556192,\n",
              "       1082.73271691, 1084.56958165, 1072.52442073, 1069.92848139,\n",
              "       1065.88892345, 1066.26415054, 1069.19125713, 1077.51054709,\n",
              "       1087.31230734, 1090.25946834, 1093.95588625, 1101.20756294,\n",
              "       1104.9800679 , 1108.9345592 , 1112.72663967, 1114.79930842,\n",
              "       1114.53836156, 1117.45780556, 1118.3653427 , 1109.74876848,\n",
              "       1109.66358211, 1105.4447317 , 1105.64461736, 1101.76375869,\n",
              "       1107.58869839, 1114.64054929, 1114.12332496, 1109.61191954,\n",
              "       1108.15896216, 1103.91119748, 1099.94928305, 1099.61069268,\n",
              "       1108.94222179, 1118.89926907, 1130.40547506, 1129.21238699,\n",
              "       1127.77649083, 1141.63528929, 1159.8008184 , 1169.28236651,\n",
              "       1185.47268535, 1191.95379356, 1185.54314519, 1188.86756866,\n",
              "       1193.74947192, 1200.6851868 , 1196.51231189, 1202.7144542 ,\n",
              "       1221.33925936, 1240.32432564, 1256.27949897, 1265.98775177,\n",
              "       1255.36741217, 1245.82839469, 1239.44408645, 1247.29961057,\n",
              "       1247.96577635, 1256.40880505, 1261.61277624, 1262.75234596,\n",
              "       1245.85102326, 1228.97388559, 1213.29755843, 1215.41021629,\n",
              "       1209.37419637, 1201.46922465, 1212.60026341, 1224.47373459,\n",
              "       1229.67848401, 1224.84728549, 1224.2360748 , 1228.47575785,\n",
              "       1226.29928505, 1223.63695661, 1220.1124679 , 1221.97537345,\n",
              "       1227.75535535, 1232.69981642, 1235.15393811, 1232.83367216,\n",
              "       1220.68680242, 1222.35832299, 1224.76533178, 1239.03036685,\n",
              "       1243.66000352, 1246.80190188, 1254.72471305, 1258.78043425,\n",
              "       1275.1053272 , 1283.66826334, 1280.62244659, 1291.93343631,\n",
              "       1303.05525602, 1305.34205804, 1310.74064686, 1317.98933035,\n",
              "       1325.82641637, 1318.63729749, 1302.40710928, 1298.6766288 ,\n",
              "       1286.85901066, 1289.36299901, 1294.13523155, 1288.32477892,\n",
              "       1300.68949349, 1312.53165583, 1316.51015257, 1322.74683637,\n",
              "       1331.86914105, 1329.77923149, 1312.03843694, 1297.10035173,\n",
              "       1281.45359735, 1273.137121  , 1260.58928268, 1264.04965712,\n",
              "       1262.2642155 , 1258.22800993])"
            ]
          },
          "metadata": {
            "tags": []
          },
          "execution_count": 71
        }
      ]
    },
    {
      "cell_type": "code",
      "metadata": {
        "id": "U8bfxKReXy6W"
      },
      "source": [
        "# Get the models predicted price values\n",
        "#prediction=scaler.inverse_transform(prediction)\n",
        "#pred = np.array(prediction)\n",
        "#pred = pd.DataFrame(prediction)\n",
        "#pred.to_csv('epoch_30.csv')"
      ],
      "execution_count": null,
      "outputs": []
    },
    {
      "cell_type": "code",
      "metadata": {
        "colab": {
          "base_uri": "https://localhost:8080/"
        },
        "id": "_OWEpOJuZ1r9",
        "outputId": "b2a0ea35-9158-4aaf-f0be-94a031141390"
      },
      "source": [
        "y_test_temp=df.loc[training_data_len:,'close']\n",
        "y_test_temp"
      ],
      "execution_count": null,
      "outputs": [
        {
          "output_type": "execute_result",
          "data": {
            "text/plain": [
              "891      669.549988\n",
              "892      672.200012\n",
              "893      692.349976\n",
              "894      680.549988\n",
              "895      705.450012\n",
              "           ...     \n",
              "1108    1333.800049\n",
              "1109    1343.550049\n",
              "1110    1348.500000\n",
              "1111    1356.000000\n",
              "1112    1356.349976\n",
              "Name: close, Length: 222, dtype: float64"
            ]
          },
          "metadata": {
            "tags": []
          },
          "execution_count": 73
        }
      ]
    },
    {
      "cell_type": "code",
      "metadata": {
        "colab": {
          "base_uri": "https://localhost:8080/"
        },
        "id": "3gsMMsbEX3IE",
        "outputId": "88ba990a-ed63-41cf-a4ed-e40d77383f18"
      },
      "source": [
        "# calculating the training mean-squared-error\n",
        "train_loss = model.evaluate(X_train, Y_train, batch_size = 1)\n",
        "\n",
        "# calculating the test mean-squared-error\n",
        "test_loss = model.evaluate(X_test, Y_test, batch_size = 1)\n",
        "\n",
        "# printing the training and the test mean-squared-errors\n",
        "print('Train Loss =', round(train_loss,4))\n",
        "print('Test Loss =', round(test_loss,4))"
      ],
      "execution_count": null,
      "outputs": [
        {
          "output_type": "stream",
          "text": [
            "871/871 [==============================] - 4s 3ms/step - loss: 4.1007e-04\n",
            "222/222 [==============================] - 2s 3ms/step - loss: 248857.0938\n",
            "Train Loss = 0.0004\n",
            "Test Loss = 248857.0938\n"
          ],
          "name": "stdout"
        }
      ]
    },
    {
      "cell_type": "code",
      "metadata": {
        "id": "2Tj9FT8aaNmQ",
        "colab": {
          "base_uri": "https://localhost:8080/"
        },
        "outputId": "e35ce27d-4dfc-42b6-9c61-17f55f70f3b1"
      },
      "source": [
        "pred_temp"
      ],
      "execution_count": null,
      "outputs": [
        {
          "output_type": "execute_result",
          "data": {
            "text/plain": [
              "array([ 679.00452531,  674.02438534,  673.68579497,  678.07040859,\n",
              "        682.45624942,  689.0422991 ,  692.91753056,  696.07765748,\n",
              "        699.28331092,  704.44109709,  709.73387641,  711.24145962,\n",
              "        715.28556722,  719.03260009,  721.66888771,  720.73818324,\n",
              "        721.30991367,  719.33428435,  716.37263628,  716.10501459,\n",
              "        713.46693105,  708.07310141,  705.51352941,  703.30131784,\n",
              "        707.62253556,  708.17256533,  708.66255157,  714.87849252,\n",
              "        720.11526914,  728.52420533,  739.31602515,  746.57410727,\n",
              "        753.4241868 ,  756.98327686,  758.71295524,  771.46699486,\n",
              "        794.41020414,  813.68324583,  837.67033234,  855.74588597,\n",
              "        872.24974213,  886.48685068,  893.28389077,  903.29355844,\n",
              "        914.64378897,  914.93062697,  916.94675424,  929.14693281,\n",
              "        937.86048659,  948.31221944,  949.78714688,  943.81937184,\n",
              "        938.83240738,  940.38863003,  943.86911876,  951.64250957,\n",
              "        955.57544986,  956.9723746 ,  959.35028952,  962.27039202,\n",
              "        956.73615154,  949.38923135,  941.67043644,  933.64738313,\n",
              "        932.7104528 ,  934.37942916,  929.61806192,  924.59760359,\n",
              "        914.63483931,  915.99937766,  921.25623863,  922.27305737,\n",
              "        921.23510667,  918.78314007,  922.4669267 ,  927.64485708,\n",
              "        936.08297694,  940.36510351,  943.31956791,  950.09730188,\n",
              "        954.06316733,  954.28250876,  963.43809778,  964.92673406,\n",
              "        973.17233153,  968.16333715,  972.87229352,  972.10537675,\n",
              "        971.73541768,  981.46384463,  993.13066553, 1010.06982223,\n",
              "       1019.68085601, 1029.4920149 , 1049.35654213, 1068.74425318,\n",
              "       1084.22027564, 1096.15480803, 1099.90779735, 1106.22661446,\n",
              "       1107.29566447, 1097.34951242, 1085.36930386, 1086.79556192,\n",
              "       1082.73271691, 1084.56958165, 1072.52442073, 1069.92848139,\n",
              "       1065.88892345, 1066.26415054, 1069.19125713, 1077.51054709,\n",
              "       1087.31230734, 1090.25946834, 1093.95588625, 1101.20756294,\n",
              "       1104.9800679 , 1108.9345592 , 1112.72663967, 1114.79930842,\n",
              "       1114.53836156, 1117.45780556, 1118.3653427 , 1109.74876848,\n",
              "       1109.66358211, 1105.4447317 , 1105.64461736, 1101.76375869,\n",
              "       1107.58869839, 1114.64054929, 1114.12332496, 1109.61191954,\n",
              "       1108.15896216, 1103.91119748, 1099.94928305, 1099.61069268,\n",
              "       1108.94222179, 1118.89926907, 1130.40547506, 1129.21238699,\n",
              "       1127.77649083, 1141.63528929, 1159.8008184 , 1169.28236651,\n",
              "       1185.47268535, 1191.95379356, 1185.54314519, 1188.86756866,\n",
              "       1193.74947192, 1200.6851868 , 1196.51231189, 1202.7144542 ,\n",
              "       1221.33925936, 1240.32432564, 1256.27949897, 1265.98775177,\n",
              "       1255.36741217, 1245.82839469, 1239.44408645, 1247.29961057,\n",
              "       1247.96577635, 1256.40880505, 1261.61277624, 1262.75234596,\n",
              "       1245.85102326, 1228.97388559, 1213.29755843, 1215.41021629,\n",
              "       1209.37419637, 1201.46922465, 1212.60026341, 1224.47373459,\n",
              "       1229.67848401, 1224.84728549, 1224.2360748 , 1228.47575785,\n",
              "       1226.29928505, 1223.63695661, 1220.1124679 , 1221.97537345,\n",
              "       1227.75535535, 1232.69981642, 1235.15393811, 1232.83367216,\n",
              "       1220.68680242, 1222.35832299, 1224.76533178, 1239.03036685,\n",
              "       1243.66000352, 1246.80190188, 1254.72471305, 1258.78043425,\n",
              "       1275.1053272 , 1283.66826334, 1280.62244659, 1291.93343631,\n",
              "       1303.05525602, 1305.34205804, 1310.74064686, 1317.98933035,\n",
              "       1325.82641637, 1318.63729749, 1302.40710928, 1298.6766288 ,\n",
              "       1286.85901066, 1289.36299901, 1294.13523155, 1288.32477892,\n",
              "       1300.68949349, 1312.53165583, 1316.51015257, 1322.74683637,\n",
              "       1331.86914105, 1329.77923149, 1312.03843694, 1297.10035173,\n",
              "       1281.45359735, 1273.137121  , 1260.58928268, 1264.04965712,\n",
              "       1262.2642155 , 1258.22800993])"
            ]
          },
          "metadata": {
            "tags": []
          },
          "execution_count": 75
        }
      ]
    },
    {
      "cell_type": "code",
      "metadata": {
        "colab": {
          "base_uri": "https://localhost:8080/"
        },
        "id": "YQAifae2X4-d",
        "outputId": "6ae7d148-9070-42bd-b37f-d48ec4b72c31"
      },
      "source": [
        "# calculating root mean squared error using sklearn.metrics package\n",
        "rmse = metrics.mean_squared_error(y_test_temp, pred_temp)\n",
        "print('Root Mean Square Error (sklearn.metrics) =', round(np.sqrt(rmse),4))"
      ],
      "execution_count": null,
      "outputs": [
        {
          "output_type": "stream",
          "text": [
            "Root Mean Square Error (sklearn.metrics) = 61.0442\n"
          ],
          "name": "stdout"
        }
      ]
    },
    {
      "cell_type": "code",
      "metadata": {
        "colab": {
          "base_uri": "https://localhost:8080/"
        },
        "id": "_wSsQZbsmIvE",
        "outputId": "63faea6d-f8f3-465a-e13f-ddb3d4b1cde7"
      },
      "source": [
        "final_mape = mean_absolute_error(y_test_temp, pred_temp)\n",
        "print('Mean Absolute Percentage Error (sklearn.metrics) =', round(final_mape,4))"
      ],
      "execution_count": null,
      "outputs": [
        {
          "output_type": "stream",
          "text": [
            "Mean Absolute Percentage Error (sklearn.metrics) = 47.9996\n"
          ],
          "name": "stdout"
        }
      ]
    },
    {
      "cell_type": "code",
      "metadata": {
        "colab": {
          "base_uri": "https://localhost:8080/"
        },
        "id": "SrJB1VCmmJXw",
        "outputId": "fff6ca46-f8ed-4f36-ef99-a8802a5c6537"
      },
      "source": [
        "final_mse=mean_squared_error(y_test_temp,pred_temp)\n",
        "print('Mean Square Error (sklearn.metrics) =', round(final_mse,4))"
      ],
      "execution_count": null,
      "outputs": [
        {
          "output_type": "stream",
          "text": [
            "Mean Square Error (sklearn.metrics) = 3726.3945\n"
          ],
          "name": "stdout"
        }
      ]
    },
    {
      "cell_type": "code",
      "metadata": {
        "colab": {
          "base_uri": "https://localhost:8080/",
          "height": 507
        },
        "id": "HGLrocJeen6a",
        "outputId": "96805fb8-d832-4c77-96b7-b9583a89b1fe"
      },
      "source": [
        "# plotting\n",
        "plt.figure(figsize=(16,8))\n",
        "plt.title('INFY.NS Predicted Stock Value')\n",
        "plt.plot(np.array(pred_temp), label=\"Predicted Close Price\")\n",
        "plt.plot(np.array(y_test_temp), label=\"Testing Close Price\")\n",
        "plt.xlabel('Test Days',fontsize=18)\n",
        "plt.ylabel('Close Price',fontsize=18)\n",
        "plt.legend(loc='top right', fancybox=True, shadow=True)\n",
        "plt.show()"
      ],
      "execution_count": null,
      "outputs": [
        {
          "output_type": "display_data",
          "data": {
            "image/png": "[encoded data removed]",
            "text/plain": [
              "<Figure size 1152x576 with 1 Axes>"
            ]
          },
          "metadata": {
            "tags": []
          }
        }
      ]
    },
    {
      "cell_type": "code",
      "metadata": {
        "id": "NtXWRL7DnMd5"
      },
      "source": [
        "pred_temp = np.array(pred_temp)\n",
        "pred_temp = pd.DataFrame(pred_temp)\n",
        "pred_temp.to_csv('epoch_30_lstm_sentiment.csv')"
      ],
      "execution_count": null,
      "outputs": []
    }
  ]
}