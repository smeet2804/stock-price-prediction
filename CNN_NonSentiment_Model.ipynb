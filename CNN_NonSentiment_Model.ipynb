{
  "nbformat": 4,
  "nbformat_minor": 0,
  "metadata": {
    "colab": {
      "name": "CNN_(Technical)_v2.ipynb",
      "provenance": [],
      "collapsed_sections": []
    },
    "kernelspec": {
      "name": "python3",
      "display_name": "Python 3"
    },
    "language_info": {
      "name": "python"
    }
  },
  "cells": [
    {
      "cell_type": "code",
      "metadata": {
        "id": "lyuuuzm8pq74"
      },
      "source": [
        "import numpy as np \n",
        "import os\n",
        "import pandas as pd\n",
        "import pandas_datareader as pdr\n",
        "import matplotlib.pyplot as plt\n",
        "plt.style.use('fivethirtyeight')\n",
        "import seaborn as sns\n",
        "from sklearn.preprocessing import MinMaxScaler, StandardScaler\n",
        "from sklearn.metrics import mean_squared_error, accuracy_score, mean_absolute_error"
      ],
      "execution_count": null,
      "outputs": []
    },
    {
      "cell_type": "code",
      "metadata": {
        "id": "Fnph7j6Hqlzp"
      },
      "source": [
        "df= pd.read_csv('/content/INFY_Final_CNN.csv')"
      ],
      "execution_count": null,
      "outputs": []
    },
    {
      "cell_type": "code",
      "metadata": {
        "colab": {
          "base_uri": "https://localhost:8080/",
          "height": 415
        },
        "id": "sD9TLUokr2tl",
        "outputId": "ccca4fd8-36a0-4733-c626-d2e9557d39af"
      },
      "source": [
        "df"
      ],
      "execution_count": null,
      "outputs": [
        {
          "output_type": "execute_result",
          "data": {
            "text/html": [
              "<div>\n",
              "<style scoped>\n",
              "    .dataframe tbody tr th:only-of-type {\n",
              "        vertical-align: middle;\n",
              "    }\n",
              "\n",
              "    .dataframe tbody tr th {\n",
              "        vertical-align: top;\n",
              "    }\n",
              "\n",
              "    .dataframe thead th {\n",
              "        text-align: right;\n",
              "    }\n",
              "</style>\n",
              "<table border=\"1\" class=\"dataframe\">\n",
              "  <thead>\n",
              "    <tr style=\"text-align: right;\">\n",
              "      <th></th>\n",
              "      <th>Date</th>\n",
              "      <th>close</th>\n",
              "      <th>compund</th>\n",
              "      <th>neg</th>\n",
              "      <th>neu</th>\n",
              "      <th>pos</th>\n",
              "      <th>open</th>\n",
              "      <th>high</th>\n",
              "      <th>low</th>\n",
              "      <th>volume</th>\n",
              "    </tr>\n",
              "  </thead>\n",
              "  <tbody>\n",
              "    <tr>\n",
              "      <th>0</th>\n",
              "      <td>04-04-2016</td>\n",
              "      <td>621.849976</td>\n",
              "      <td>0.0000</td>\n",
              "      <td>0.000</td>\n",
              "      <td>1.000</td>\n",
              "      <td>0.000</td>\n",
              "      <td>606.775024</td>\n",
              "      <td>624.000000</td>\n",
              "      <td>606.775024</td>\n",
              "      <td>4577054</td>\n",
              "    </tr>\n",
              "    <tr>\n",
              "      <th>1</th>\n",
              "      <td>05-04-2016</td>\n",
              "      <td>609.900024</td>\n",
              "      <td>0.3818</td>\n",
              "      <td>0.000</td>\n",
              "      <td>0.843</td>\n",
              "      <td>0.157</td>\n",
              "      <td>621.000000</td>\n",
              "      <td>621.150024</td>\n",
              "      <td>607.000000</td>\n",
              "      <td>4790716</td>\n",
              "    </tr>\n",
              "    <tr>\n",
              "      <th>2</th>\n",
              "      <td>07-04-2016</td>\n",
              "      <td>590.750000</td>\n",
              "      <td>0.0000</td>\n",
              "      <td>0.000</td>\n",
              "      <td>1.000</td>\n",
              "      <td>0.000</td>\n",
              "      <td>604.200012</td>\n",
              "      <td>604.200012</td>\n",
              "      <td>587.500000</td>\n",
              "      <td>5657890</td>\n",
              "    </tr>\n",
              "    <tr>\n",
              "      <th>3</th>\n",
              "      <td>11-04-2016</td>\n",
              "      <td>591.950012</td>\n",
              "      <td>-0.4767</td>\n",
              "      <td>0.237</td>\n",
              "      <td>0.763</td>\n",
              "      <td>0.000</td>\n",
              "      <td>582.900024</td>\n",
              "      <td>593.375000</td>\n",
              "      <td>575.549988</td>\n",
              "      <td>5768678</td>\n",
              "    </tr>\n",
              "    <tr>\n",
              "      <th>4</th>\n",
              "      <td>12-04-2016</td>\n",
              "      <td>591.099976</td>\n",
              "      <td>0.8807</td>\n",
              "      <td>0.000</td>\n",
              "      <td>0.263</td>\n",
              "      <td>0.737</td>\n",
              "      <td>590.250000</td>\n",
              "      <td>597.450012</td>\n",
              "      <td>589.299988</td>\n",
              "      <td>5842138</td>\n",
              "    </tr>\n",
              "    <tr>\n",
              "      <th>...</th>\n",
              "      <td>...</td>\n",
              "      <td>...</td>\n",
              "      <td>...</td>\n",
              "      <td>...</td>\n",
              "      <td>...</td>\n",
              "      <td>...</td>\n",
              "      <td>...</td>\n",
              "      <td>...</td>\n",
              "      <td>...</td>\n",
              "      <td>...</td>\n",
              "    </tr>\n",
              "    <tr>\n",
              "      <th>1108</th>\n",
              "      <td>23-04-2021</td>\n",
              "      <td>1333.800049</td>\n",
              "      <td>0.0000</td>\n",
              "      <td>0.000</td>\n",
              "      <td>1.000</td>\n",
              "      <td>0.000</td>\n",
              "      <td>1343.000000</td>\n",
              "      <td>1348.400024</td>\n",
              "      <td>1331.000000</td>\n",
              "      <td>7316262</td>\n",
              "    </tr>\n",
              "    <tr>\n",
              "      <th>1109</th>\n",
              "      <td>26-04-2021</td>\n",
              "      <td>1343.550049</td>\n",
              "      <td>0.8225</td>\n",
              "      <td>0.000</td>\n",
              "      <td>0.751</td>\n",
              "      <td>0.249</td>\n",
              "      <td>1332.250000</td>\n",
              "      <td>1351.300049</td>\n",
              "      <td>1321.000000</td>\n",
              "      <td>7088606</td>\n",
              "    </tr>\n",
              "    <tr>\n",
              "      <th>1110</th>\n",
              "      <td>27-04-2021</td>\n",
              "      <td>1348.500000</td>\n",
              "      <td>0.2960</td>\n",
              "      <td>0.049</td>\n",
              "      <td>0.852</td>\n",
              "      <td>0.099</td>\n",
              "      <td>1346.000000</td>\n",
              "      <td>1353.000000</td>\n",
              "      <td>1340.150024</td>\n",
              "      <td>3636115</td>\n",
              "    </tr>\n",
              "    <tr>\n",
              "      <th>1111</th>\n",
              "      <td>28-04-2021</td>\n",
              "      <td>1356.000000</td>\n",
              "      <td>0.2023</td>\n",
              "      <td>0.000</td>\n",
              "      <td>0.964</td>\n",
              "      <td>0.036</td>\n",
              "      <td>1358.000000</td>\n",
              "      <td>1359.500000</td>\n",
              "      <td>1344.599976</td>\n",
              "      <td>4879234</td>\n",
              "    </tr>\n",
              "    <tr>\n",
              "      <th>1112</th>\n",
              "      <td>29-04-2021</td>\n",
              "      <td>1356.349976</td>\n",
              "      <td>0.7783</td>\n",
              "      <td>0.000</td>\n",
              "      <td>0.929</td>\n",
              "      <td>0.071</td>\n",
              "      <td>1368.000000</td>\n",
              "      <td>1369.000000</td>\n",
              "      <td>1351.400024</td>\n",
              "      <td>5412357</td>\n",
              "    </tr>\n",
              "  </tbody>\n",
              "</table>\n",
              "<p>1113 rows × 10 columns</p>\n",
              "</div>"
            ],
            "text/plain": [
              "            Date        close  compund  ...         high          low   volume\n",
              "0     04-04-2016   621.849976   0.0000  ...   624.000000   606.775024  4577054\n",
              "1     05-04-2016   609.900024   0.3818  ...   621.150024   607.000000  4790716\n",
              "2     07-04-2016   590.750000   0.0000  ...   604.200012   587.500000  5657890\n",
              "3     11-04-2016   591.950012  -0.4767  ...   593.375000   575.549988  5768678\n",
              "4     12-04-2016   591.099976   0.8807  ...   597.450012   589.299988  5842138\n",
              "...          ...          ...      ...  ...          ...          ...      ...\n",
              "1108  23-04-2021  1333.800049   0.0000  ...  1348.400024  1331.000000  7316262\n",
              "1109  26-04-2021  1343.550049   0.8225  ...  1351.300049  1321.000000  7088606\n",
              "1110  27-04-2021  1348.500000   0.2960  ...  1353.000000  1340.150024  3636115\n",
              "1111  28-04-2021  1356.000000   0.2023  ...  1359.500000  1344.599976  4879234\n",
              "1112  29-04-2021  1356.349976   0.7783  ...  1369.000000  1351.400024  5412357\n",
              "\n",
              "[1113 rows x 10 columns]"
            ]
          },
          "metadata": {
            "tags": []
          },
          "execution_count": 50
        }
      ]
    },
    {
      "cell_type": "code",
      "metadata": {
        "colab": {
          "base_uri": "https://localhost:8080/",
          "height": 415
        },
        "id": "qdMqnaZoqFfo",
        "outputId": "e447773b-0d72-423c-9d4e-9323d3b8cfb7"
      },
      "source": [
        "df = df.drop(columns=['open','high','low','volume','Date','compund','neg','pos','neu'])\n",
        "df"
      ],
      "execution_count": null,
      "outputs": [
        {
          "output_type": "execute_result",
          "data": {
            "text/html": [
              "<div>\n",
              "<style scoped>\n",
              "    .dataframe tbody tr th:only-of-type {\n",
              "        vertical-align: middle;\n",
              "    }\n",
              "\n",
              "    .dataframe tbody tr th {\n",
              "        vertical-align: top;\n",
              "    }\n",
              "\n",
              "    .dataframe thead th {\n",
              "        text-align: right;\n",
              "    }\n",
              "</style>\n",
              "<table border=\"1\" class=\"dataframe\">\n",
              "  <thead>\n",
              "    <tr style=\"text-align: right;\">\n",
              "      <th></th>\n",
              "      <th>close</th>\n",
              "    </tr>\n",
              "  </thead>\n",
              "  <tbody>\n",
              "    <tr>\n",
              "      <th>0</th>\n",
              "      <td>621.849976</td>\n",
              "    </tr>\n",
              "    <tr>\n",
              "      <th>1</th>\n",
              "      <td>609.900024</td>\n",
              "    </tr>\n",
              "    <tr>\n",
              "      <th>2</th>\n",
              "      <td>590.750000</td>\n",
              "    </tr>\n",
              "    <tr>\n",
              "      <th>3</th>\n",
              "      <td>591.950012</td>\n",
              "    </tr>\n",
              "    <tr>\n",
              "      <th>4</th>\n",
              "      <td>591.099976</td>\n",
              "    </tr>\n",
              "    <tr>\n",
              "      <th>...</th>\n",
              "      <td>...</td>\n",
              "    </tr>\n",
              "    <tr>\n",
              "      <th>1108</th>\n",
              "      <td>1333.800049</td>\n",
              "    </tr>\n",
              "    <tr>\n",
              "      <th>1109</th>\n",
              "      <td>1343.550049</td>\n",
              "    </tr>\n",
              "    <tr>\n",
              "      <th>1110</th>\n",
              "      <td>1348.500000</td>\n",
              "    </tr>\n",
              "    <tr>\n",
              "      <th>1111</th>\n",
              "      <td>1356.000000</td>\n",
              "    </tr>\n",
              "    <tr>\n",
              "      <th>1112</th>\n",
              "      <td>1356.349976</td>\n",
              "    </tr>\n",
              "  </tbody>\n",
              "</table>\n",
              "<p>1113 rows × 1 columns</p>\n",
              "</div>"
            ],
            "text/plain": [
              "            close\n",
              "0      621.849976\n",
              "1      609.900024\n",
              "2      590.750000\n",
              "3      591.950012\n",
              "4      591.099976\n",
              "...           ...\n",
              "1108  1333.800049\n",
              "1109  1343.550049\n",
              "1110  1348.500000\n",
              "1111  1356.000000\n",
              "1112  1356.349976\n",
              "\n",
              "[1113 rows x 1 columns]"
            ]
          },
          "metadata": {
            "tags": []
          },
          "execution_count": 51
        }
      ]
    },
    {
      "cell_type": "code",
      "metadata": {
        "colab": {
          "base_uri": "https://localhost:8080/",
          "height": 141
        },
        "id": "sR9lUeiF1j2b",
        "outputId": "66850c65-fc23-405c-fe22-c4cfa0e3e2fc"
      },
      "source": [
        "df.head(3)"
      ],
      "execution_count": null,
      "outputs": [
        {
          "output_type": "execute_result",
          "data": {
            "text/html": [
              "<div>\n",
              "<style scoped>\n",
              "    .dataframe tbody tr th:only-of-type {\n",
              "        vertical-align: middle;\n",
              "    }\n",
              "\n",
              "    .dataframe tbody tr th {\n",
              "        vertical-align: top;\n",
              "    }\n",
              "\n",
              "    .dataframe thead th {\n",
              "        text-align: right;\n",
              "    }\n",
              "</style>\n",
              "<table border=\"1\" class=\"dataframe\">\n",
              "  <thead>\n",
              "    <tr style=\"text-align: right;\">\n",
              "      <th></th>\n",
              "      <th>close</th>\n",
              "    </tr>\n",
              "  </thead>\n",
              "  <tbody>\n",
              "    <tr>\n",
              "      <th>0</th>\n",
              "      <td>621.849976</td>\n",
              "    </tr>\n",
              "    <tr>\n",
              "      <th>1</th>\n",
              "      <td>609.900024</td>\n",
              "    </tr>\n",
              "    <tr>\n",
              "      <th>2</th>\n",
              "      <td>590.750000</td>\n",
              "    </tr>\n",
              "  </tbody>\n",
              "</table>\n",
              "</div>"
            ],
            "text/plain": [
              "        close\n",
              "0  621.849976\n",
              "1  609.900024\n",
              "2  590.750000"
            ]
          },
          "metadata": {
            "tags": []
          },
          "execution_count": 52
        }
      ]
    },
    {
      "cell_type": "code",
      "metadata": {
        "id": "Fd6bF7EbsP9o"
      },
      "source": [
        "#scaler = MinMaxScaler(feature_range=(0,1))\n",
        "#df = scaler.fit_transform(df)  \n",
        "df=np.array(df)\n",
        "y_close = df[:,0]\n"
      ],
      "execution_count": null,
      "outputs": []
    },
    {
      "cell_type": "code",
      "metadata": {
        "colab": {
          "base_uri": "https://localhost:8080/"
        },
        "id": "o928qj8vw_1w",
        "outputId": "c57368df-9080-4a99-853c-e9d3172ed713"
      },
      "source": [
        "y_close"
      ],
      "execution_count": null,
      "outputs": [
        {
          "output_type": "execute_result",
          "data": {
            "text/plain": [
              "array([ 621.849976,  609.900024,  590.75    , ..., 1348.5     ,\n",
              "       1356.      , 1356.349976])"
            ]
          },
          "metadata": {
            "tags": []
          },
          "execution_count": 54
        }
      ]
    },
    {
      "cell_type": "code",
      "metadata": {
        "id": "0AS1ekwL-PYy"
      },
      "source": [
        "steps=20"
      ],
      "execution_count": null,
      "outputs": []
    },
    {
      "cell_type": "code",
      "metadata": {
        "colab": {
          "base_uri": "https://localhost:8080/"
        },
        "id": "7odoP73BsQWz",
        "outputId": "ce2bb186-d1ea-4215-d2ca-c8aac8261188"
      },
      "source": [
        "import math\n",
        "\n",
        "ntrain = math.ceil(len(y_close)*0.8) \n",
        "train = df[0:ntrain]\n",
        "test  = df[ntrain-steps:len(df)]\n",
        "y_close_train = y_close[0:ntrain]\n",
        "y_close_test  = y_close[ntrain-steps:len(y_close)]\n",
        "y_close_test.shape\n",
        "y_close_test"
      ],
      "execution_count": null,
      "outputs": [
        {
          "output_type": "execute_result",
          "data": {
            "text/plain": [
              "array([ 623.849976,  628.75    ,  653.299988,  633.200012,  641.849976,\n",
              "        679.299988,  658.      ,  664.599976,  660.700012,  715.5     ,\n",
              "        673.700012,  673.700012,  665.900024,  664.950012,  674.200012,\n",
              "        682.900024,  687.650024,  658.150024,  663.900024,  668.599976,\n",
              "        669.549988,  672.200012,  692.349976,  680.549988,  705.450012,\n",
              "        707.400024,  691.      ,  699.549988,  708.099976,  701.549988,\n",
              "        707.75    ,  703.549988,  720.849976,  717.599976,  715.849976,\n",
              "        703.950012,  692.049988,  687.549988,  701.200012,  703.650024,\n",
              "        713.900024,  705.549988,  720.650024,  714.150024,  700.5     ,\n",
              "        748.200012,  731.75    ,  735.950012,  794.150024,  774.700012,\n",
              "        781.700012,  781.849976,  797.049988,  783.25    ,  830.950012,\n",
              "        911.      ,  903.150024,  934.299988,  936.75    ,  917.900024,\n",
              "        907.950012,  922.849976,  948.450012,  962.849976,  954.150024,\n",
              "        961.450012,  966.      ,  956.900024,  949.849976,  944.700012,\n",
              "        970.849976,  950.900024,  951.349976,  954.950012,  951.200012,\n",
              "        953.599976,  957.5     ,  967.549988,  959.299988,  955.150024,\n",
              "        948.799988,  947.400024,  938.099976,  950.799988,  947.049988,\n",
              "        935.25    ,  928.599976,  914.150024,  924.      ,  935.549988,\n",
              "        919.150024,  925.049988,  939.299988,  927.75    ,  940.049988,\n",
              "        945.700012,  978.400024,  982.450012, 1001.75    , 1011.      ,\n",
              "       1002.150024, 1009.900024, 1007.5     , 1019.75    ,  975.400024,\n",
              "       1011.450012, 1009.      , 1017.650024, 1048.699951, 1055.75    ,\n",
              "       1093.699951, 1106.800049, 1132.099976, 1157.800049, 1137.      ,\n",
              "       1108.25    , 1127.5     , 1125.900024, 1137.5     , 1148.349976,\n",
              "       1129.050049, 1122.5     , 1090.849976, 1076.550049, 1074.849976,\n",
              "       1060.599976, 1072.300049, 1062.550049, 1093.949951, 1104.      ,\n",
              "       1112.75    , 1136.550049, 1091.050049, 1122.5     , 1117.75    ,\n",
              "       1124.199951, 1123.699951, 1110.550049, 1096.75    , 1103.349976,\n",
              "       1139.849976, 1140.050049, 1115.650024, 1113.199951, 1100.      ,\n",
              "       1137.849976, 1140.900024, 1126.449951, 1134.650024, 1143.5     ,\n",
              "       1153.349976, 1167.75    , 1163.199951, 1164.550049, 1154.599976,\n",
              "       1165.699951, 1159.199951, 1189.800049, 1177.300049, 1220.5     ,\n",
              "       1253.050049, 1236.050049, 1240.300049, 1250.300049, 1246.800049,\n",
              "       1255.800049, 1260.449951, 1288.25    , 1293.800049, 1282.099976,\n",
              "       1262.150024, 1376.199951, 1387.150024, 1370.5     , 1344.949951,\n",
              "       1312.050049, 1316.650024, 1339.449951, 1339.699951, 1340.849976,\n",
              "       1325.099976, 1301.      , 1276.199951, 1239.050049, 1260.900024,\n",
              "       1271.25    , 1284.650024, 1279.349976, 1272.099976, 1303.550049,\n",
              "       1305.550049, 1296.5     , 1292.650024, 1309.800049, 1309.650024,\n",
              "       1290.400024, 1281.300049, 1292.449951, 1291.300049, 1265.199951,\n",
              "       1266.349976, 1274.300049, 1274.550049, 1253.300049, 1267.      ,\n",
              "       1304.5     , 1343.550049, 1330.349976, 1316.699951, 1335.75    ,\n",
              "       1345.550049, 1368.150024, 1374.849976, 1373.599976, 1384.      ,\n",
              "       1387.      , 1337.099976, 1344.449951, 1370.800049, 1371.550049,\n",
              "       1353.75    , 1333.800049, 1336.199951, 1368.050049, 1385.199951,\n",
              "       1409.900024, 1411.050049, 1430.199951, 1439.849976, 1441.050049,\n",
              "       1425.75    , 1397.150024, 1360.75    , 1353.75    , 1362.550049,\n",
              "       1351.349976, 1351.099976, 1333.800049, 1343.550049, 1348.5     ,\n",
              "       1356.      , 1356.349976])"
            ]
          },
          "metadata": {
            "tags": []
          },
          "execution_count": 56
        }
      ]
    },
    {
      "cell_type": "code",
      "metadata": {
        "colab": {
          "base_uri": "https://localhost:8080/"
        },
        "id": "CvkGWdSOQdjM",
        "outputId": "25811ac4-b778-47d0-d05c-c0ec4848435f"
      },
      "source": [
        "y_close_test.shape"
      ],
      "execution_count": null,
      "outputs": [
        {
          "output_type": "execute_result",
          "data": {
            "text/plain": [
              "(242,)"
            ]
          },
          "metadata": {
            "tags": []
          },
          "execution_count": 57
        }
      ]
    },
    {
      "cell_type": "code",
      "metadata": {
        "colab": {
          "base_uri": "https://localhost:8080/"
        },
        "id": "6IzGL3WCsZd3",
        "outputId": "05a98553-c601-44a6-cf39-371ffcc0c425"
      },
      "source": [
        "import numpy as np\n",
        "\n",
        "def to_sequences(seq_size, data, close):\n",
        "    x = []\n",
        "    y = []\n",
        "    \n",
        "    for i in range(len(data)-seq_size):\n",
        "        window = data[i:(i+seq_size)]\n",
        "        after_window = close[i+seq_size]\n",
        "        window = [[x] for x in window]\n",
        "        window.reverse()\n",
        "        x.append(window)\n",
        "        #print(window)\n",
        "        \n",
        "        #print(window,end=\"\\n\\n\")\n",
        "        y.append(after_window)\n",
        "        \n",
        "    return np.array(x),np.array(y)\n",
        "\n",
        "\n",
        "timesteps = steps\n",
        "\n",
        "x_train, y_train = to_sequences(timesteps, train, y_close_train)\n",
        "x_test, y_test   = to_sequences(timesteps, test, y_close_test)\n",
        "\n",
        "print(\"Shape of x_train: {}\".format(x_train.shape))\n",
        "print(\"Shape of x_test: {}\".format(x_test.shape))\n",
        "print(\"Shape of y_train: {}\".format(y_train.shape))\n",
        "print(\"Shape of y_test: {}\".format(y_test.shape))"
      ],
      "execution_count": null,
      "outputs": [
        {
          "output_type": "stream",
          "text": [
            "Shape of x_train: (871, 20, 1, 1)\n",
            "Shape of x_test: (222, 20, 1, 1)\n",
            "Shape of y_train: (871,)\n",
            "Shape of y_test: (222,)\n"
          ],
          "name": "stdout"
        }
      ]
    },
    {
      "cell_type": "code",
      "metadata": {
        "id": "D8wWcIEavcq5",
        "colab": {
          "base_uri": "https://localhost:8080/"
        },
        "outputId": "26356d84-8f73-488f-8b6b-6f7786a4b272"
      },
      "source": [
        "x_train = np.reshape(x_train,(x_train.shape[0], x_train.shape[2], x_train.shape[1],x_train.shape[3]))\n",
        "x_test = np.reshape(x_test,(x_test.shape[0],x_test.shape[2],x_test.shape[1],x_test.shape[3]))\n",
        "x_train\n"
      ],
      "execution_count": null,
      "outputs": [
        {
          "output_type": "execute_result",
          "data": {
            "text/plain": [
              "array([[[[606.400024],\n",
              "         [599.525024],\n",
              "         [590.75    ],\n",
              "         ...,\n",
              "         [590.75    ],\n",
              "         [609.900024],\n",
              "         [621.849976]]],\n",
              "\n",
              "\n",
              "       [[[600.924988],\n",
              "         [606.400024],\n",
              "         [599.525024],\n",
              "         ...,\n",
              "         [591.950012],\n",
              "         [590.75    ],\n",
              "         [609.900024]]],\n",
              "\n",
              "\n",
              "       [[[605.      ],\n",
              "         [600.924988],\n",
              "         [606.400024],\n",
              "         ...,\n",
              "         [591.099976],\n",
              "         [591.950012],\n",
              "         [590.75    ]]],\n",
              "\n",
              "\n",
              "       ...,\n",
              "\n",
              "\n",
              "       [[[687.650024],\n",
              "         [682.900024],\n",
              "         [674.200012],\n",
              "         ...,\n",
              "         [639.049988],\n",
              "         [637.400024],\n",
              "         [636.25    ]]],\n",
              "\n",
              "\n",
              "       [[[658.150024],\n",
              "         [687.650024],\n",
              "         [682.900024],\n",
              "         ...,\n",
              "         [623.849976],\n",
              "         [639.049988],\n",
              "         [637.400024]]],\n",
              "\n",
              "\n",
              "       [[[663.900024],\n",
              "         [658.150024],\n",
              "         [687.650024],\n",
              "         ...,\n",
              "         [628.75    ],\n",
              "         [623.849976],\n",
              "         [639.049988]]]])"
            ]
          },
          "metadata": {
            "tags": []
          },
          "execution_count": 59
        }
      ]
    },
    {
      "cell_type": "code",
      "metadata": {
        "colab": {
          "base_uri": "https://localhost:8080/",
          "height": 304
        },
        "id": "XIj2MkWAL0QC",
        "outputId": "2cf22e8c-36eb-47fb-9195-2498a781749c"
      },
      "source": [
        "fig, (ax1, ax2, ax3, ax4, ax5) = plt.subplots(1, 5)\n",
        "ax1.imshow(x_train[0][0])\n",
        "ax2.imshow(x_train[1][0])\n",
        "ax3.imshow(x_train[2][0])\n",
        "ax4.imshow(x_train[3][0])\n",
        "#ax5.imshow(x_train[185][0])"
      ],
      "execution_count": null,
      "outputs": [
        {
          "output_type": "execute_result",
          "data": {
            "text/plain": [
              "<matplotlib.image.AxesImage at 0x7fcb28d28e50>"
            ]
          },
          "metadata": {
            "tags": []
          },
          "execution_count": 60
        },
        {
          "output_type": "display_data",
          "data": {
            "image/png": "[encoded data removed]",
            "text/plain": [
              "<Figure size 432x288 with 5 Axes>"
            ]
          },
          "metadata": {
            "tags": []
          }
        }
      ]
    },
    {
      "cell_type": "code",
      "metadata": {
        "colab": {
          "base_uri": "https://localhost:8080/"
        },
        "id": "sGD-zY9T3tnu",
        "outputId": "fe9887c3-174f-472d-cfa0-359cfa8fae47"
      },
      "source": [
        "print(\"Shape of x_train: {}\".format(x_train.shape))\n",
        "print(\"Shape of x_test: {}\".format(x_test.shape))"
      ],
      "execution_count": null,
      "outputs": [
        {
          "output_type": "stream",
          "text": [
            "Shape of x_train: (871, 1, 20, 1)\n",
            "Shape of x_test: (222, 1, 20, 1)\n"
          ],
          "name": "stdout"
        }
      ]
    },
    {
      "cell_type": "code",
      "metadata": {
        "id": "4eHood5Nx86H"
      },
      "source": [
        "import numpy as np\n",
        "import pandas as pd\n",
        "\n",
        "import tensorflow as tf\n",
        "import keras\n",
        "from keras.models import Sequential\n",
        "from keras.layers.core import Dense, Activation, Flatten\n",
        "from keras.callbacks import ModelCheckpoint\n",
        "from keras.callbacks import EarlyStopping\n",
        "from keras.models import Sequential\n",
        "from keras.layers.core import Dense, Activation, Flatten, Dropout\n",
        "from keras.optimizers import Adam\n",
        "from keras.layers import Conv1D, Conv2D, MaxPooling2D\n",
        "from sklearn import metrics\n",
        "from sklearn.model_selection import train_test_split\n",
        "from sklearn.metrics import mean_squared_error,r2_score\n",
        "from sklearn.preprocessing import MinMaxScaler\n",
        "import csv\n",
        "import collections\n",
        "from scipy.stats import zscore\n",
        "from datetime import datetime\n",
        "import matplotlib.pyplot as plt"
      ],
      "execution_count": null,
      "outputs": []
    },
    {
      "cell_type": "code",
      "metadata": {
        "colab": {
          "base_uri": "https://localhost:8080/"
        },
        "id": "4G4BeCm4yBJn",
        "outputId": "d5b52c27-3391-4341-e64c-f29c9207e2bc"
      },
      "source": [
        "cnn = Sequential()\n",
        "cnn.add(Conv2D(32, kernel_size = (1,2), strides = (2, 2),  padding = 'valid', \n",
        "               activation = 'relu', input_shape = (1,steps,1)))\n",
        "cnn.add(MaxPooling2D(pool_size = (1,2)))\n",
        "cnn.add(Flatten())\n",
        "cnn.add(Dense(32, activation=\"relu\"))\n",
        "cnn.add(Dropout(0.1))\n",
        "cnn.add(Dense(1, activation=\"relu\"))\n",
        "cnn.summary()"
      ],
      "execution_count": null,
      "outputs": [
        {
          "output_type": "stream",
          "text": [
            "Model: \"sequential_2\"\n",
            "_________________________________________________________________\n",
            "Layer (type)                 Output Shape              Param #   \n",
            "=================================================================\n",
            "conv2d_2 (Conv2D)            (None, 1, 10, 32)         96        \n",
            "_________________________________________________________________\n",
            "max_pooling2d_1 (MaxPooling2 (None, 1, 5, 32)          0         \n",
            "_________________________________________________________________\n",
            "flatten_1 (Flatten)          (None, 160)               0         \n",
            "_________________________________________________________________\n",
            "dense_2 (Dense)              (None, 32)                5152      \n",
            "_________________________________________________________________\n",
            "dropout_1 (Dropout)          (None, 32)                0         \n",
            "_________________________________________________________________\n",
            "dense_3 (Dense)              (None, 1)                 33        \n",
            "=================================================================\n",
            "Total params: 5,281\n",
            "Trainable params: 5,281\n",
            "Non-trainable params: 0\n",
            "_________________________________________________________________\n"
          ],
          "name": "stdout"
        }
      ]
    },
    {
      "cell_type": "code",
      "metadata": {
        "id": "x00khPgjyGY6"
      },
      "source": [
        "cnn.compile(loss='mean_squared_error', optimizer='adam')\n",
        "\n",
        "monitor = EarlyStopping(monitor='val_loss', min_delta=1, patience=2, verbose=2, mode='auto') \n",
        "checkpointer = ModelCheckpoint(filepath=\"CNN_Parameters.hdf5\", verbose=0, save_best_only=True)"
      ],
      "execution_count": null,
      "outputs": []
    },
    {
      "cell_type": "code",
      "metadata": {
        "colab": {
          "base_uri": "https://localhost:8080/"
        },
        "id": "Jj7tljb3yXhi",
        "outputId": "016c6f8c-6d3c-4588-f921-53398b289b85"
      },
      "source": [
        "history = cnn.fit(x_train,y_train,validation_split=0.2,batch_size = 8, callbacks=[checkpointer],verbose=1,epochs = 30)"
      ],
      "execution_count": null,
      "outputs": [
        {
          "output_type": "stream",
          "text": [
            "Epoch 1/30\n",
            "87/87 [==============================] - 1s 5ms/step - loss: 126147.2298 - val_loss: 2447.7571\n",
            "Epoch 2/30\n",
            "87/87 [==============================] - 0s 2ms/step - loss: 6466.4706 - val_loss: 2347.3762\n",
            "Epoch 3/30\n",
            "87/87 [==============================] - 0s 2ms/step - loss: 6998.5684 - val_loss: 2348.2424\n",
            "Epoch 4/30\n",
            "87/87 [==============================] - 0s 2ms/step - loss: 6150.3700 - val_loss: 2813.6353\n",
            "Epoch 5/30\n",
            "87/87 [==============================] - 0s 2ms/step - loss: 7650.3947 - val_loss: 2142.1929\n",
            "Epoch 6/30\n",
            "87/87 [==============================] - 0s 2ms/step - loss: 6343.3964 - val_loss: 2169.3992\n",
            "Epoch 7/30\n",
            "87/87 [==============================] - 0s 2ms/step - loss: 6909.4399 - val_loss: 2243.2561\n",
            "Epoch 8/30\n",
            "87/87 [==============================] - 0s 2ms/step - loss: 6666.0662 - val_loss: 4224.3662\n",
            "Epoch 9/30\n",
            "87/87 [==============================] - 0s 2ms/step - loss: 7157.5831 - val_loss: 2796.8154\n",
            "Epoch 10/30\n",
            "87/87 [==============================] - 0s 2ms/step - loss: 7048.7416 - val_loss: 2067.7144\n",
            "Epoch 11/30\n",
            "87/87 [==============================] - 0s 2ms/step - loss: 5894.4464 - val_loss: 2022.8575\n",
            "Epoch 12/30\n",
            "87/87 [==============================] - 0s 2ms/step - loss: 5480.0526 - val_loss: 2326.4578\n",
            "Epoch 13/30\n",
            "87/87 [==============================] - 0s 2ms/step - loss: 5393.9113 - val_loss: 1978.1188\n",
            "Epoch 14/30\n",
            "87/87 [==============================] - 0s 2ms/step - loss: 5474.5406 - val_loss: 2192.5466\n",
            "Epoch 15/30\n",
            "87/87 [==============================] - 0s 2ms/step - loss: 5922.4175 - val_loss: 1970.7871\n",
            "Epoch 16/30\n",
            "87/87 [==============================] - 0s 2ms/step - loss: 5897.4523 - val_loss: 3375.7795\n",
            "Epoch 17/30\n",
            "87/87 [==============================] - 0s 2ms/step - loss: 6101.4841 - val_loss: 1935.2358\n",
            "Epoch 18/30\n",
            "87/87 [==============================] - 0s 2ms/step - loss: 6215.1409 - val_loss: 2405.9185\n",
            "Epoch 19/30\n",
            "87/87 [==============================] - 0s 2ms/step - loss: 6566.1402 - val_loss: 1875.6119\n",
            "Epoch 20/30\n",
            "87/87 [==============================] - 0s 2ms/step - loss: 6114.5701 - val_loss: 2070.7246\n",
            "Epoch 21/30\n",
            "87/87 [==============================] - 0s 2ms/step - loss: 6461.7657 - val_loss: 1828.3823\n",
            "Epoch 22/30\n",
            "87/87 [==============================] - 0s 2ms/step - loss: 6109.9394 - val_loss: 2346.8728\n",
            "Epoch 23/30\n",
            "87/87 [==============================] - 0s 2ms/step - loss: 6270.1076 - val_loss: 1793.0977\n",
            "Epoch 24/30\n",
            "87/87 [==============================] - 0s 2ms/step - loss: 4949.9379 - val_loss: 1809.5530\n",
            "Epoch 25/30\n",
            "87/87 [==============================] - 0s 2ms/step - loss: 5975.8307 - val_loss: 2316.6345\n",
            "Epoch 26/30\n",
            "87/87 [==============================] - 0s 2ms/step - loss: 6401.7279 - val_loss: 1752.4738\n",
            "Epoch 27/30\n",
            "87/87 [==============================] - 0s 2ms/step - loss: 6635.8020 - val_loss: 1743.6204\n",
            "Epoch 28/30\n",
            "87/87 [==============================] - 0s 2ms/step - loss: 6391.5446 - val_loss: 1740.9344\n",
            "Epoch 29/30\n",
            "87/87 [==============================] - 0s 2ms/step - loss: 6286.3598 - val_loss: 1668.7671\n",
            "Epoch 30/30\n",
            "87/87 [==============================] - 0s 2ms/step - loss: 5716.3359 - val_loss: 2254.0161\n"
          ],
          "name": "stdout"
        }
      ]
    },
    {
      "cell_type": "code",
      "metadata": {
        "id": "L_LrlkZFyMxT",
        "colab": {
          "base_uri": "https://localhost:8080/"
        },
        "outputId": "ac25f151-f923-4a4e-cd83-1547fd3ff695"
      },
      "source": [
        "cnn.load_weights('CNN_Parameters.hdf5')\n",
        "pred = cnn.predict(x_test)\n",
        "print(pred.shape)"
      ],
      "execution_count": null,
      "outputs": [
        {
          "output_type": "stream",
          "text": [
            "(222, 1)\n"
          ],
          "name": "stdout"
        }
      ]
    },
    {
      "cell_type": "code",
      "metadata": {
        "id": "GwywuY6E0DGE"
      },
      "source": [
        "#pred_temp=scaler.inverse_transform(pred.reshape(len(pred),1))\n",
        "#pred_temp"
      ],
      "execution_count": null,
      "outputs": []
    },
    {
      "cell_type": "code",
      "metadata": {
        "id": "WbEjYA2uy0GN"
      },
      "source": [
        "#y_test_temp=scaler.inverse_transform(y_test.reshape(-1,1))\n"
      ],
      "execution_count": null,
      "outputs": []
    },
    {
      "cell_type": "code",
      "metadata": {
        "id": "RNf4TQax0E9d"
      },
      "source": [
        "#y_test_temp"
      ],
      "execution_count": null,
      "outputs": []
    },
    {
      "cell_type": "code",
      "metadata": {
        "id": "dfscUVQxyzit",
        "colab": {
          "base_uri": "https://localhost:8080/"
        },
        "outputId": "e1763dd3-6bef-4961-f390-9ecd1a60dd7a"
      },
      "source": [
        "final_mape=mean_absolute_error(y_test, pred)\n",
        "print(\"Mean Absolute Error\",final_mape)\n",
        "final_mse=mean_squared_error(y_test,pred)\n",
        "print(\"Mean Squared Error: \",final_mse)\n",
        "final_rmse=np.sqrt(final_mse)\n",
        "print(\"Root Mean Squared Error: \",final_rmse)\n",
        "final_mse_1=mean_squared_error(y_test,pred)\n",
        "print(\"Mean Squared Error: \",final_mse_1)\n",
        "final_rmse_1=np.sqrt(final_mse_1)\n",
        "print(\"Root Mean Squared Error: \",final_rmse_1)\n"
      ],
      "execution_count": null,
      "outputs": [
        {
          "output_type": "stream",
          "text": [
            "Mean Absolute Error 35.21924404085727\n",
            "Mean Squared Error:  2089.5976035188596\n",
            "Root Mean Squared Error:  45.71211659416855\n",
            "Mean Squared Error:  2089.5976035188596\n",
            "Root Mean Squared Error:  45.71211659416855\n"
          ],
          "name": "stdout"
        }
      ]
    },
    {
      "cell_type": "code",
      "metadata": {
        "id": "WFaOLmUQ0bHI",
        "colab": {
          "base_uri": "https://localhost:8080/",
          "height": 507
        },
        "outputId": "3c8b81a6-0c12-43ae-df72-dafd8722b28d"
      },
      "source": [
        "plt.figure(figsize=(16,8))\n",
        "plt.title('INFY.NS Predicted Stock Value')\n",
        "plt.plot(pred, label=\"Predicted Close Price\")\n",
        "plt.plot(y_test, label=\"Testing Close Price\")\n",
        "plt.xlabel('Test Days',fontsize=18)\n",
        "plt.ylabel('Close Price',fontsize=18)\n",
        "plt.legend(loc='upper right', fancybox=True, shadow=True)\n",
        "plt.show()\n"
      ],
      "execution_count": null,
      "outputs": [
        {
          "output_type": "display_data",
          "data": {
            "image/png": "[encoded data removed]",
            "text/plain": [
              "<Figure size 1152x576 with 1 Axes>"
            ]
          },
          "metadata": {
            "tags": []
          }
        }
      ]
    },
    {
      "cell_type": "code",
      "metadata": {
        "id": "ZzCwp-TzKWow",
        "colab": {
          "base_uri": "https://localhost:8080/",
          "height": 195
        },
        "outputId": "9d9f7e0e-e308-4a6b-a26b-c0d85103e9b7"
      },
      "source": [
        "#prediction = np.array(pred_temp)\n",
        "#prediction = pd.DataFrame(pred_temp)\n",
        "#prediction.to_csv('CNNTECHN.csv')"
      ],
      "execution_count": null,
      "outputs": [
        {
          "output_type": "error",
          "ename": "NameError",
          "evalue": "ignored",
          "traceback": [
            "\u001b[0;31m---------------------------------------------------------------------------\u001b[0m",
            "\u001b[0;31mNameError\u001b[0m                                 Traceback (most recent call last)",
            "\u001b[0;32m<ipython-input-72-cd12fc4ef91d>\u001b[0m in \u001b[0;36m<module>\u001b[0;34m()\u001b[0m\n\u001b[0;32m----> 1\u001b[0;31m \u001b[0mprediction\u001b[0m \u001b[0;34m=\u001b[0m \u001b[0mnp\u001b[0m\u001b[0;34m.\u001b[0m\u001b[0marray\u001b[0m\u001b[0;34m(\u001b[0m\u001b[0mpred_temp\u001b[0m\u001b[0;34m)\u001b[0m\u001b[0;34m\u001b[0m\u001b[0;34m\u001b[0m\u001b[0m\n\u001b[0m\u001b[1;32m      2\u001b[0m \u001b[0mprediction\u001b[0m \u001b[0;34m=\u001b[0m \u001b[0mpd\u001b[0m\u001b[0;34m.\u001b[0m\u001b[0mDataFrame\u001b[0m\u001b[0;34m(\u001b[0m\u001b[0mpred_temp\u001b[0m\u001b[0;34m)\u001b[0m\u001b[0;34m\u001b[0m\u001b[0;34m\u001b[0m\u001b[0m\n\u001b[1;32m      3\u001b[0m \u001b[0mprediction\u001b[0m\u001b[0;34m.\u001b[0m\u001b[0mto_csv\u001b[0m\u001b[0;34m(\u001b[0m\u001b[0;34m'CNNTECHN.csv'\u001b[0m\u001b[0;34m)\u001b[0m\u001b[0;34m\u001b[0m\u001b[0;34m\u001b[0m\u001b[0m\n",
            "\u001b[0;31mNameError\u001b[0m: name 'pred_temp' is not defined"
          ]
        }
      ]
    }
  ]
}